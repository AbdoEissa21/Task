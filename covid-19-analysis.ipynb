{
 "cells": [
  {
   "cell_type": "code",
   "execution_count": 1,
   "id": "1e51eff4",
   "metadata": {
    "_cell_guid": "b1076dfc-b9ad-4769-8c92-a6c4dae69d19",
    "_uuid": "8f2839f25d086af736a60e9eeb907d3b93b6e0e5",
    "execution": {
     "iopub.execute_input": "2024-08-03T08:39:07.330930Z",
     "iopub.status.busy": "2024-08-03T08:39:07.330509Z",
     "iopub.status.idle": "2024-08-03T08:39:12.644853Z",
     "shell.execute_reply": "2024-08-03T08:39:12.643484Z"
    },
    "papermill": {
     "duration": 5.332538,
     "end_time": "2024-08-03T08:39:12.648048",
     "exception": false,
     "start_time": "2024-08-03T08:39:07.315510",
     "status": "completed"
    },
    "tags": []
   },
   "outputs": [],
   "source": [
    "import pandas as pd\n",
    "import numpy as np\n",
    "import matplotlib.pyplot as plt\n",
    "import seaborn as sns\n",
    "import plotly.graph_objects as go\n",
    "import plotly.express as px\n",
    "import plotly.io as pio\n",
    "pio.templates.default = \"plotly_dark\"\n",
    "from plotly.subplots import make_subplots\n"
   ]
  },
  {
   "cell_type": "code",
   "execution_count": 2,
   "id": "e4cf93a4",
   "metadata": {
    "execution": {
     "iopub.execute_input": "2024-08-03T08:39:12.676964Z",
     "iopub.status.busy": "2024-08-03T08:39:12.676321Z",
     "iopub.status.idle": "2024-08-03T08:39:13.016843Z",
     "shell.execute_reply": "2024-08-03T08:39:13.015635Z"
    },
    "papermill": {
     "duration": 0.359902,
     "end_time": "2024-08-03T08:39:13.021376",
     "exception": false,
     "start_time": "2024-08-03T08:39:12.661474",
     "status": "completed"
    },
    "tags": []
   },
   "outputs": [
    {
     "name": "stdout",
     "output_type": "stream",
     "text": [
      "---------  Country/Region  Confirmed  Deaths  Recovered  Active  New cases  New deaths  \\\n",
      "0    Afghanistan      36263    1269      25198    9796        106          10   \n",
      "1        Albania       4880     144       2745    1991        117           6   \n",
      "2        Algeria      27973    1163      18837    7973        616           8   \n",
      "3        Andorra        907      52        803      52         10           0   \n",
      "4         Angola        950      41        242     667         18           1   \n",
      "\n",
      "   New recovered  Deaths / 100 Cases  Recovered / 100 Cases  \\\n",
      "0             18                3.50                  69.49   \n",
      "1             63                2.95                  56.25   \n",
      "2            749                4.16                  67.34   \n",
      "3              0                5.73                  88.53   \n",
      "4              0                4.32                  25.47   \n",
      "\n",
      "   Deaths / 100 Recovered  Confirmed last week  1 week change  \\\n",
      "0                    5.04                35526            737   \n",
      "1                    5.25                 4171            709   \n",
      "2                    6.17                23691           4282   \n",
      "3                    6.48                  884             23   \n",
      "4                   16.94                  749            201   \n",
      "\n",
      "   1 week % increase             WHO Region  \n",
      "0               2.07  Eastern Mediterranean  \n",
      "1              17.00                 Europe  \n",
      "2              18.07                 Africa  \n",
      "3               2.60                 Europe  \n",
      "4              26.84                 Africa  ----------\n",
      "\n",
      "\n",
      "\n",
      "\n",
      "\n",
      "---------  Province/State Country/Region       Lat       Long        Date  Confirmed  \\\n",
      "0            NaN    Afghanistan  33.93911  67.709953  2020-01-22          0   \n",
      "1            NaN        Albania  41.15330  20.168300  2020-01-22          0   \n",
      "2            NaN        Algeria  28.03390   1.659600  2020-01-22          0   \n",
      "3            NaN        Andorra  42.50630   1.521800  2020-01-22          0   \n",
      "4            NaN         Angola -11.20270  17.873900  2020-01-22          0   \n",
      "\n",
      "   Deaths  Recovered  Active             WHO Region  \n",
      "0       0          0       0  Eastern Mediterranean  \n",
      "1       0          0       0                 Europe  \n",
      "2       0          0       0                 Africa  \n",
      "3       0          0       0                 Europe  \n",
      "4       0          0       0                 Africa  ----------\n",
      "\n",
      "\n",
      "\n",
      "\n",
      "\n",
      "---------         Date  Confirmed  Deaths  Recovered  Active  New cases  New deaths  \\\n",
      "0  2020-01-22        555      17         28     510          0           0   \n",
      "1  2020-01-23        654      18         30     606         99           1   \n",
      "2  2020-01-24        941      26         36     879        287           8   \n",
      "3  2020-01-25       1434      42         39    1353        493          16   \n",
      "4  2020-01-26       2118      56         52    2010        684          14   \n",
      "\n",
      "   New recovered  Deaths / 100 Cases  Recovered / 100 Cases  \\\n",
      "0              0                3.06                   5.05   \n",
      "1              2                2.75                   4.59   \n",
      "2              6                2.76                   3.83   \n",
      "3              3                2.93                   2.72   \n",
      "4             13                2.64                   2.46   \n",
      "\n",
      "   Deaths / 100 Recovered  No. of countries  \n",
      "0                   60.71                 6  \n",
      "1                   60.00                 8  \n",
      "2                   72.22                 9  \n",
      "3                  107.69                11  \n",
      "4                  107.69                13  ----------\n",
      "\n",
      "\n",
      "\n",
      "\n",
      "\n",
      "---------         Date Country/Region  Confirmed  Deaths  Recovered  Active  New cases  \\\n",
      "0  2020-01-22    Afghanistan          0       0          0       0          0   \n",
      "1  2020-01-22        Albania          0       0          0       0          0   \n",
      "2  2020-01-22        Algeria          0       0          0       0          0   \n",
      "3  2020-01-22        Andorra          0       0          0       0          0   \n",
      "4  2020-01-22         Angola          0       0          0       0          0   \n",
      "\n",
      "   New deaths  New recovered             WHO Region  \n",
      "0           0              0  Eastern Mediterranean  \n",
      "1           0              0                 Europe  \n",
      "2           0              0                 Africa  \n",
      "3           0              0                 Europe  \n",
      "4           0              0                 Africa  ----------\n",
      "\n",
      "\n",
      "\n",
      "\n",
      "\n",
      "---------  Country/Region      Continent    Population  TotalCases  NewCases  \\\n",
      "0            USA  North America  3.311981e+08     5032179       NaN   \n",
      "1         Brazil  South America  2.127107e+08     2917562       NaN   \n",
      "2          India           Asia  1.381345e+09     2025409       NaN   \n",
      "3         Russia         Europe  1.459409e+08      871894       NaN   \n",
      "4   South Africa         Africa  5.938157e+07      538184       NaN   \n",
      "\n",
      "   TotalDeaths  NewDeaths  TotalRecovered  NewRecovered  ActiveCases  \\\n",
      "0     162804.0        NaN       2576668.0           NaN    2292707.0   \n",
      "1      98644.0        NaN       2047660.0           NaN     771258.0   \n",
      "2      41638.0        NaN       1377384.0           NaN     606387.0   \n",
      "3      14606.0        NaN        676357.0           NaN     180931.0   \n",
      "4       9604.0        NaN        387316.0           NaN     141264.0   \n",
      "\n",
      "   Serious,Critical  Tot Cases/1M pop  Deaths/1M pop  TotalTests  \\\n",
      "0           18296.0           15194.0          492.0  63139605.0   \n",
      "1            8318.0           13716.0          464.0  13206188.0   \n",
      "2            8944.0            1466.0           30.0  22149351.0   \n",
      "3            2300.0            5974.0          100.0  29716907.0   \n",
      "4             539.0            9063.0          162.0   3149807.0   \n",
      "\n",
      "   Tests/1M pop      WHO Region  \n",
      "0      190640.0        Americas  \n",
      "1       62085.0        Americas  \n",
      "2       16035.0  South-EastAsia  \n",
      "3      203623.0          Europe  \n",
      "4       53044.0          Africa  ----------\n",
      "\n",
      "\n",
      "\n",
      "\n",
      "\n"
     ]
    }
   ],
   "source": [
    "df_country = pd.read_csv('/kaggle/input/corona-virus-report/country_wise_latest.csv')\n",
    "df_covid = pd.read_csv('/kaggle/input/corona-virus-report/covid_19_clean_complete.csv')\n",
    "df_day = pd.read_csv('/kaggle/input/corona-virus-report/day_wise.csv')\n",
    "df_fgroup = pd.read_csv('/kaggle/input/corona-virus-report/full_grouped.csv')\n",
    "df_world = pd.read_csv('/kaggle/input/corona-virus-report/worldometer_data.csv')\n",
    "\n",
    "\n",
    "all_dfs = [df_country, df_covid, df_day, df_fgroup, df_world]\n",
    "for df in all_dfs:\n",
    "    print(f'---------{df.head()}----------\\n\\n\\n\\n\\n')\n"
   ]
  },
  {
   "cell_type": "code",
   "execution_count": 3,
   "id": "e823ea09",
   "metadata": {
    "execution": {
     "iopub.execute_input": "2024-08-03T08:39:13.053576Z",
     "iopub.status.busy": "2024-08-03T08:39:13.053008Z",
     "iopub.status.idle": "2024-08-03T08:39:13.061471Z",
     "shell.execute_reply": "2024-08-03T08:39:13.060334Z"
    },
    "papermill": {
     "duration": 0.025792,
     "end_time": "2024-08-03T08:39:13.064388",
     "exception": false,
     "start_time": "2024-08-03T08:39:13.038596",
     "status": "completed"
    },
    "tags": []
   },
   "outputs": [
    {
     "data": {
      "text/plain": [
       "(49068, 10)"
      ]
     },
     "execution_count": 3,
     "metadata": {},
     "output_type": "execute_result"
    }
   ],
   "source": [
    "df_covid.shape"
   ]
  },
  {
   "cell_type": "code",
   "execution_count": 4,
   "id": "cab0a379",
   "metadata": {
    "execution": {
     "iopub.execute_input": "2024-08-03T08:39:13.092088Z",
     "iopub.status.busy": "2024-08-03T08:39:13.091661Z",
     "iopub.status.idle": "2024-08-03T08:39:13.138584Z",
     "shell.execute_reply": "2024-08-03T08:39:13.137181Z"
    },
    "papermill": {
     "duration": 0.063732,
     "end_time": "2024-08-03T08:39:13.141078",
     "exception": false,
     "start_time": "2024-08-03T08:39:13.077346",
     "status": "completed"
    },
    "tags": []
   },
   "outputs": [
    {
     "name": "stdout",
     "output_type": "stream",
     "text": [
      "<class 'pandas.core.frame.DataFrame'>\n",
      "RangeIndex: 49068 entries, 0 to 49067\n",
      "Data columns (total 10 columns):\n",
      " #   Column          Non-Null Count  Dtype  \n",
      "---  ------          --------------  -----  \n",
      " 0   Province/State  14664 non-null  object \n",
      " 1   Country/Region  49068 non-null  object \n",
      " 2   Lat             49068 non-null  float64\n",
      " 3   Long            49068 non-null  float64\n",
      " 4   Date            49068 non-null  object \n",
      " 5   Confirmed       49068 non-null  int64  \n",
      " 6   Deaths          49068 non-null  int64  \n",
      " 7   Recovered       49068 non-null  int64  \n",
      " 8   Active          49068 non-null  int64  \n",
      " 9   WHO Region      49068 non-null  object \n",
      "dtypes: float64(2), int64(4), object(4)\n",
      "memory usage: 3.7+ MB\n"
     ]
    }
   ],
   "source": [
    "df_covid.info()"
   ]
  },
  {
   "cell_type": "code",
   "execution_count": 5,
   "id": "920cd09e",
   "metadata": {
    "execution": {
     "iopub.execute_input": "2024-08-03T08:39:13.169517Z",
     "iopub.status.busy": "2024-08-03T08:39:13.169132Z",
     "iopub.status.idle": "2024-08-03T08:39:13.230354Z",
     "shell.execute_reply": "2024-08-03T08:39:13.227878Z"
    },
    "papermill": {
     "duration": 0.079038,
     "end_time": "2024-08-03T08:39:13.233690",
     "exception": false,
     "start_time": "2024-08-03T08:39:13.154652",
     "status": "completed"
    },
    "tags": []
   },
   "outputs": [
    {
     "data": {
      "text/html": [
       "<div>\n",
       "<style scoped>\n",
       "    .dataframe tbody tr th:only-of-type {\n",
       "        vertical-align: middle;\n",
       "    }\n",
       "\n",
       "    .dataframe tbody tr th {\n",
       "        vertical-align: top;\n",
       "    }\n",
       "\n",
       "    .dataframe thead th {\n",
       "        text-align: right;\n",
       "    }\n",
       "</style>\n",
       "<table border=\"1\" class=\"dataframe\">\n",
       "  <thead>\n",
       "    <tr style=\"text-align: right;\">\n",
       "      <th></th>\n",
       "      <th>Lat</th>\n",
       "      <th>Long</th>\n",
       "      <th>Confirmed</th>\n",
       "      <th>Deaths</th>\n",
       "      <th>Recovered</th>\n",
       "      <th>Active</th>\n",
       "    </tr>\n",
       "  </thead>\n",
       "  <tbody>\n",
       "    <tr>\n",
       "      <th>count</th>\n",
       "      <td>49068.000000</td>\n",
       "      <td>49068.000000</td>\n",
       "      <td>4.906800e+04</td>\n",
       "      <td>49068.000000</td>\n",
       "      <td>4.906800e+04</td>\n",
       "      <td>4.906800e+04</td>\n",
       "    </tr>\n",
       "    <tr>\n",
       "      <th>mean</th>\n",
       "      <td>21.433730</td>\n",
       "      <td>23.528236</td>\n",
       "      <td>1.688490e+04</td>\n",
       "      <td>884.179160</td>\n",
       "      <td>7.915713e+03</td>\n",
       "      <td>8.085012e+03</td>\n",
       "    </tr>\n",
       "    <tr>\n",
       "      <th>std</th>\n",
       "      <td>24.950320</td>\n",
       "      <td>70.442740</td>\n",
       "      <td>1.273002e+05</td>\n",
       "      <td>6313.584411</td>\n",
       "      <td>5.480092e+04</td>\n",
       "      <td>7.625890e+04</td>\n",
       "    </tr>\n",
       "    <tr>\n",
       "      <th>min</th>\n",
       "      <td>-51.796300</td>\n",
       "      <td>-135.000000</td>\n",
       "      <td>0.000000e+00</td>\n",
       "      <td>0.000000</td>\n",
       "      <td>0.000000e+00</td>\n",
       "      <td>-1.400000e+01</td>\n",
       "    </tr>\n",
       "    <tr>\n",
       "      <th>25%</th>\n",
       "      <td>7.873054</td>\n",
       "      <td>-15.310100</td>\n",
       "      <td>4.000000e+00</td>\n",
       "      <td>0.000000</td>\n",
       "      <td>0.000000e+00</td>\n",
       "      <td>0.000000e+00</td>\n",
       "    </tr>\n",
       "    <tr>\n",
       "      <th>50%</th>\n",
       "      <td>23.634500</td>\n",
       "      <td>21.745300</td>\n",
       "      <td>1.680000e+02</td>\n",
       "      <td>2.000000</td>\n",
       "      <td>2.900000e+01</td>\n",
       "      <td>2.600000e+01</td>\n",
       "    </tr>\n",
       "    <tr>\n",
       "      <th>75%</th>\n",
       "      <td>41.204380</td>\n",
       "      <td>80.771797</td>\n",
       "      <td>1.518250e+03</td>\n",
       "      <td>30.000000</td>\n",
       "      <td>6.660000e+02</td>\n",
       "      <td>6.060000e+02</td>\n",
       "    </tr>\n",
       "    <tr>\n",
       "      <th>max</th>\n",
       "      <td>71.706900</td>\n",
       "      <td>178.065000</td>\n",
       "      <td>4.290259e+06</td>\n",
       "      <td>148011.000000</td>\n",
       "      <td>1.846641e+06</td>\n",
       "      <td>2.816444e+06</td>\n",
       "    </tr>\n",
       "  </tbody>\n",
       "</table>\n",
       "</div>"
      ],
      "text/plain": [
       "                Lat          Long     Confirmed         Deaths     Recovered  \\\n",
       "count  49068.000000  49068.000000  4.906800e+04   49068.000000  4.906800e+04   \n",
       "mean      21.433730     23.528236  1.688490e+04     884.179160  7.915713e+03   \n",
       "std       24.950320     70.442740  1.273002e+05    6313.584411  5.480092e+04   \n",
       "min      -51.796300   -135.000000  0.000000e+00       0.000000  0.000000e+00   \n",
       "25%        7.873054    -15.310100  4.000000e+00       0.000000  0.000000e+00   \n",
       "50%       23.634500     21.745300  1.680000e+02       2.000000  2.900000e+01   \n",
       "75%       41.204380     80.771797  1.518250e+03      30.000000  6.660000e+02   \n",
       "max       71.706900    178.065000  4.290259e+06  148011.000000  1.846641e+06   \n",
       "\n",
       "             Active  \n",
       "count  4.906800e+04  \n",
       "mean   8.085012e+03  \n",
       "std    7.625890e+04  \n",
       "min   -1.400000e+01  \n",
       "25%    0.000000e+00  \n",
       "50%    2.600000e+01  \n",
       "75%    6.060000e+02  \n",
       "max    2.816444e+06  "
      ]
     },
     "execution_count": 5,
     "metadata": {},
     "output_type": "execute_result"
    }
   ],
   "source": [
    "df_covid.describe()"
   ]
  },
  {
   "cell_type": "markdown",
   "id": "5bfc7ff6",
   "metadata": {
    "papermill": {
     "duration": 0.013434,
     "end_time": "2024-08-03T08:39:13.263800",
     "exception": false,
     "start_time": "2024-08-03T08:39:13.250366",
     "status": "completed"
    },
    "tags": []
   },
   "source": [
    "**Checking missing/null values**"
   ]
  },
  {
   "cell_type": "code",
   "execution_count": 6,
   "id": "0600a4c6",
   "metadata": {
    "execution": {
     "iopub.execute_input": "2024-08-03T08:39:13.294810Z",
     "iopub.status.busy": "2024-08-03T08:39:13.293724Z",
     "iopub.status.idle": "2024-08-03T08:39:13.320361Z",
     "shell.execute_reply": "2024-08-03T08:39:13.319111Z"
    },
    "papermill": {
     "duration": 0.045115,
     "end_time": "2024-08-03T08:39:13.323155",
     "exception": false,
     "start_time": "2024-08-03T08:39:13.278040",
     "status": "completed"
    },
    "tags": []
   },
   "outputs": [
    {
     "data": {
      "text/plain": [
       "Date              0\n",
       "Country/Region    0\n",
       "Confirmed         0\n",
       "Deaths            0\n",
       "Recovered         0\n",
       "Active            0\n",
       "New cases         0\n",
       "New deaths        0\n",
       "New recovered     0\n",
       "WHO Region        0\n",
       "dtype: int64"
      ]
     },
     "execution_count": 6,
     "metadata": {},
     "output_type": "execute_result"
    }
   ],
   "source": [
    "df_fgroup.isnull().sum()"
   ]
  },
  {
   "cell_type": "code",
   "execution_count": 7,
   "id": "7683a210",
   "metadata": {
    "execution": {
     "iopub.execute_input": "2024-08-03T08:39:13.352921Z",
     "iopub.status.busy": "2024-08-03T08:39:13.352483Z",
     "iopub.status.idle": "2024-08-03T08:39:13.362312Z",
     "shell.execute_reply": "2024-08-03T08:39:13.361175Z"
    },
    "papermill": {
     "duration": 0.028335,
     "end_time": "2024-08-03T08:39:13.365007",
     "exception": false,
     "start_time": "2024-08-03T08:39:13.336672",
     "status": "completed"
    },
    "tags": []
   },
   "outputs": [
    {
     "data": {
      "text/plain": [
       "Country/Region            0\n",
       "Confirmed                 0\n",
       "Deaths                    0\n",
       "Recovered                 0\n",
       "Active                    0\n",
       "New cases                 0\n",
       "New deaths                0\n",
       "New recovered             0\n",
       "Deaths / 100 Cases        0\n",
       "Recovered / 100 Cases     0\n",
       "Deaths / 100 Recovered    0\n",
       "Confirmed last week       0\n",
       "1 week change             0\n",
       "1 week % increase         0\n",
       "WHO Region                0\n",
       "dtype: int64"
      ]
     },
     "execution_count": 7,
     "metadata": {},
     "output_type": "execute_result"
    }
   ],
   "source": [
    "df_country.isnull().sum()"
   ]
  },
  {
   "cell_type": "code",
   "execution_count": 8,
   "id": "b923fd1c",
   "metadata": {
    "execution": {
     "iopub.execute_input": "2024-08-03T08:39:13.394484Z",
     "iopub.status.busy": "2024-08-03T08:39:13.394050Z",
     "iopub.status.idle": "2024-08-03T08:39:13.424380Z",
     "shell.execute_reply": "2024-08-03T08:39:13.423110Z"
    },
    "papermill": {
     "duration": 0.047987,
     "end_time": "2024-08-03T08:39:13.427136",
     "exception": false,
     "start_time": "2024-08-03T08:39:13.379149",
     "status": "completed"
    },
    "tags": []
   },
   "outputs": [
    {
     "data": {
      "text/plain": [
       "Province/State    34404\n",
       "Country/Region        0\n",
       "Lat                   0\n",
       "Long                  0\n",
       "Date                  0\n",
       "Confirmed             0\n",
       "Deaths                0\n",
       "Recovered             0\n",
       "Active                0\n",
       "WHO Region            0\n",
       "dtype: int64"
      ]
     },
     "execution_count": 8,
     "metadata": {},
     "output_type": "execute_result"
    }
   ],
   "source": [
    "df_covid.isnull().sum()"
   ]
  },
  {
   "cell_type": "code",
   "execution_count": 9,
   "id": "3dc7d3b0",
   "metadata": {
    "execution": {
     "iopub.execute_input": "2024-08-03T08:39:13.456673Z",
     "iopub.status.busy": "2024-08-03T08:39:13.456199Z",
     "iopub.status.idle": "2024-08-03T08:39:13.479111Z",
     "shell.execute_reply": "2024-08-03T08:39:13.478113Z"
    },
    "papermill": {
     "duration": 0.041225,
     "end_time": "2024-08-03T08:39:13.482170",
     "exception": false,
     "start_time": "2024-08-03T08:39:13.440945",
     "status": "completed"
    },
    "tags": []
   },
   "outputs": [
    {
     "data": {
      "text/html": [
       "<div>\n",
       "<style scoped>\n",
       "    .dataframe tbody tr th:only-of-type {\n",
       "        vertical-align: middle;\n",
       "    }\n",
       "\n",
       "    .dataframe tbody tr th {\n",
       "        vertical-align: top;\n",
       "    }\n",
       "\n",
       "    .dataframe thead th {\n",
       "        text-align: right;\n",
       "    }\n",
       "</style>\n",
       "<table border=\"1\" class=\"dataframe\">\n",
       "  <thead>\n",
       "    <tr style=\"text-align: right;\">\n",
       "      <th></th>\n",
       "      <th>Province/State</th>\n",
       "      <th>Country/Region</th>\n",
       "      <th>Lat</th>\n",
       "      <th>Long</th>\n",
       "      <th>Date</th>\n",
       "      <th>Confirmed</th>\n",
       "      <th>Deaths</th>\n",
       "      <th>Recovered</th>\n",
       "      <th>Active</th>\n",
       "      <th>WHO Region</th>\n",
       "    </tr>\n",
       "  </thead>\n",
       "  <tbody>\n",
       "    <tr>\n",
       "      <th>0</th>\n",
       "      <td></td>\n",
       "      <td>Afghanistan</td>\n",
       "      <td>33.93911</td>\n",
       "      <td>67.709953</td>\n",
       "      <td>2020-01-22</td>\n",
       "      <td>0</td>\n",
       "      <td>0</td>\n",
       "      <td>0</td>\n",
       "      <td>0</td>\n",
       "      <td>Eastern Mediterranean</td>\n",
       "    </tr>\n",
       "    <tr>\n",
       "      <th>1</th>\n",
       "      <td></td>\n",
       "      <td>Albania</td>\n",
       "      <td>41.15330</td>\n",
       "      <td>20.168300</td>\n",
       "      <td>2020-01-22</td>\n",
       "      <td>0</td>\n",
       "      <td>0</td>\n",
       "      <td>0</td>\n",
       "      <td>0</td>\n",
       "      <td>Europe</td>\n",
       "    </tr>\n",
       "    <tr>\n",
       "      <th>2</th>\n",
       "      <td></td>\n",
       "      <td>Algeria</td>\n",
       "      <td>28.03390</td>\n",
       "      <td>1.659600</td>\n",
       "      <td>2020-01-22</td>\n",
       "      <td>0</td>\n",
       "      <td>0</td>\n",
       "      <td>0</td>\n",
       "      <td>0</td>\n",
       "      <td>Africa</td>\n",
       "    </tr>\n",
       "    <tr>\n",
       "      <th>3</th>\n",
       "      <td></td>\n",
       "      <td>Andorra</td>\n",
       "      <td>42.50630</td>\n",
       "      <td>1.521800</td>\n",
       "      <td>2020-01-22</td>\n",
       "      <td>0</td>\n",
       "      <td>0</td>\n",
       "      <td>0</td>\n",
       "      <td>0</td>\n",
       "      <td>Europe</td>\n",
       "    </tr>\n",
       "    <tr>\n",
       "      <th>4</th>\n",
       "      <td></td>\n",
       "      <td>Angola</td>\n",
       "      <td>-11.20270</td>\n",
       "      <td>17.873900</td>\n",
       "      <td>2020-01-22</td>\n",
       "      <td>0</td>\n",
       "      <td>0</td>\n",
       "      <td>0</td>\n",
       "      <td>0</td>\n",
       "      <td>Africa</td>\n",
       "    </tr>\n",
       "  </tbody>\n",
       "</table>\n",
       "</div>"
      ],
      "text/plain": [
       "  Province/State Country/Region       Lat       Long        Date  Confirmed  \\\n",
       "0                   Afghanistan  33.93911  67.709953  2020-01-22          0   \n",
       "1                       Albania  41.15330  20.168300  2020-01-22          0   \n",
       "2                       Algeria  28.03390   1.659600  2020-01-22          0   \n",
       "3                       Andorra  42.50630   1.521800  2020-01-22          0   \n",
       "4                        Angola -11.20270  17.873900  2020-01-22          0   \n",
       "\n",
       "   Deaths  Recovered  Active             WHO Region  \n",
       "0       0          0       0  Eastern Mediterranean  \n",
       "1       0          0       0                 Europe  \n",
       "2       0          0       0                 Africa  \n",
       "3       0          0       0                 Europe  \n",
       "4       0          0       0                 Africa  "
      ]
     },
     "execution_count": 9,
     "metadata": {},
     "output_type": "execute_result"
    }
   ],
   "source": [
    "df_covid['Province/State'] = df_covid['Province/State'].fillna(' ')\n",
    "df_covid.head()"
   ]
  },
  {
   "cell_type": "code",
   "execution_count": 10,
   "id": "157077fd",
   "metadata": {
    "execution": {
     "iopub.execute_input": "2024-08-03T08:39:13.512781Z",
     "iopub.status.busy": "2024-08-03T08:39:13.512379Z",
     "iopub.status.idle": "2024-08-03T08:39:13.522266Z",
     "shell.execute_reply": "2024-08-03T08:39:13.521095Z"
    },
    "papermill": {
     "duration": 0.028273,
     "end_time": "2024-08-03T08:39:13.524959",
     "exception": false,
     "start_time": "2024-08-03T08:39:13.496686",
     "status": "completed"
    },
    "tags": []
   },
   "outputs": [
    {
     "data": {
      "text/plain": [
       "Country/Region        0\n",
       "Continent             1\n",
       "Population            1\n",
       "TotalCases            0\n",
       "NewCases            205\n",
       "TotalDeaths          21\n",
       "NewDeaths           206\n",
       "TotalRecovered        4\n",
       "NewRecovered        206\n",
       "ActiveCases           4\n",
       "Serious,Critical     87\n",
       "Tot Cases/1M pop      1\n",
       "Deaths/1M pop        22\n",
       "TotalTests           18\n",
       "Tests/1M pop         18\n",
       "WHO Region           25\n",
       "dtype: int64"
      ]
     },
     "execution_count": 10,
     "metadata": {},
     "output_type": "execute_result"
    }
   ],
   "source": [
    "df_world.isnull().sum()"
   ]
  },
  {
   "cell_type": "code",
   "execution_count": 11,
   "id": "f0888397",
   "metadata": {
    "execution": {
     "iopub.execute_input": "2024-08-03T08:39:13.558719Z",
     "iopub.status.busy": "2024-08-03T08:39:13.558167Z",
     "iopub.status.idle": "2024-08-03T08:39:13.602194Z",
     "shell.execute_reply": "2024-08-03T08:39:13.600992Z"
    },
    "papermill": {
     "duration": 0.06574,
     "end_time": "2024-08-03T08:39:13.605102",
     "exception": false,
     "start_time": "2024-08-03T08:39:13.539362",
     "status": "completed"
    },
    "tags": []
   },
   "outputs": [
    {
     "data": {
      "text/html": [
       "<div>\n",
       "<style scoped>\n",
       "    .dataframe tbody tr th:only-of-type {\n",
       "        vertical-align: middle;\n",
       "    }\n",
       "\n",
       "    .dataframe tbody tr th {\n",
       "        vertical-align: top;\n",
       "    }\n",
       "\n",
       "    .dataframe thead th {\n",
       "        text-align: right;\n",
       "    }\n",
       "</style>\n",
       "<table border=\"1\" class=\"dataframe\">\n",
       "  <thead>\n",
       "    <tr style=\"text-align: right;\">\n",
       "      <th></th>\n",
       "      <th>Country/Region</th>\n",
       "      <th>Continent</th>\n",
       "      <th>Population</th>\n",
       "      <th>TotalCases</th>\n",
       "      <th>NewCases</th>\n",
       "      <th>TotalDeaths</th>\n",
       "      <th>NewDeaths</th>\n",
       "      <th>TotalRecovered</th>\n",
       "      <th>NewRecovered</th>\n",
       "      <th>ActiveCases</th>\n",
       "      <th>Serious,Critical</th>\n",
       "      <th>Tot Cases/1M pop</th>\n",
       "      <th>Deaths/1M pop</th>\n",
       "      <th>TotalTests</th>\n",
       "      <th>Tests/1M pop</th>\n",
       "      <th>WHO Region</th>\n",
       "    </tr>\n",
       "  </thead>\n",
       "  <tbody>\n",
       "    <tr>\n",
       "      <th>0</th>\n",
       "      <td>USA</td>\n",
       "      <td>North America</td>\n",
       "      <td>3.311981e+08</td>\n",
       "      <td>5032179</td>\n",
       "      <td>0.0</td>\n",
       "      <td>162804.0</td>\n",
       "      <td>0.0</td>\n",
       "      <td>2576668.0</td>\n",
       "      <td>0.0</td>\n",
       "      <td>2292707.0</td>\n",
       "      <td>18296.0</td>\n",
       "      <td>15194.0</td>\n",
       "      <td>492.0</td>\n",
       "      <td>63139605.0</td>\n",
       "      <td>190640.0</td>\n",
       "      <td>Americas</td>\n",
       "    </tr>\n",
       "    <tr>\n",
       "      <th>1</th>\n",
       "      <td>Brazil</td>\n",
       "      <td>South America</td>\n",
       "      <td>2.127107e+08</td>\n",
       "      <td>2917562</td>\n",
       "      <td>0.0</td>\n",
       "      <td>98644.0</td>\n",
       "      <td>0.0</td>\n",
       "      <td>2047660.0</td>\n",
       "      <td>0.0</td>\n",
       "      <td>771258.0</td>\n",
       "      <td>8318.0</td>\n",
       "      <td>13716.0</td>\n",
       "      <td>464.0</td>\n",
       "      <td>13206188.0</td>\n",
       "      <td>62085.0</td>\n",
       "      <td>Americas</td>\n",
       "    </tr>\n",
       "    <tr>\n",
       "      <th>2</th>\n",
       "      <td>India</td>\n",
       "      <td>Asia</td>\n",
       "      <td>1.381345e+09</td>\n",
       "      <td>2025409</td>\n",
       "      <td>0.0</td>\n",
       "      <td>41638.0</td>\n",
       "      <td>0.0</td>\n",
       "      <td>1377384.0</td>\n",
       "      <td>0.0</td>\n",
       "      <td>606387.0</td>\n",
       "      <td>8944.0</td>\n",
       "      <td>1466.0</td>\n",
       "      <td>30.0</td>\n",
       "      <td>22149351.0</td>\n",
       "      <td>16035.0</td>\n",
       "      <td>South-EastAsia</td>\n",
       "    </tr>\n",
       "    <tr>\n",
       "      <th>3</th>\n",
       "      <td>Russia</td>\n",
       "      <td>Europe</td>\n",
       "      <td>1.459409e+08</td>\n",
       "      <td>871894</td>\n",
       "      <td>0.0</td>\n",
       "      <td>14606.0</td>\n",
       "      <td>0.0</td>\n",
       "      <td>676357.0</td>\n",
       "      <td>0.0</td>\n",
       "      <td>180931.0</td>\n",
       "      <td>2300.0</td>\n",
       "      <td>5974.0</td>\n",
       "      <td>100.0</td>\n",
       "      <td>29716907.0</td>\n",
       "      <td>203623.0</td>\n",
       "      <td>Europe</td>\n",
       "    </tr>\n",
       "    <tr>\n",
       "      <th>4</th>\n",
       "      <td>South Africa</td>\n",
       "      <td>Africa</td>\n",
       "      <td>5.938157e+07</td>\n",
       "      <td>538184</td>\n",
       "      <td>0.0</td>\n",
       "      <td>9604.0</td>\n",
       "      <td>0.0</td>\n",
       "      <td>387316.0</td>\n",
       "      <td>0.0</td>\n",
       "      <td>141264.0</td>\n",
       "      <td>539.0</td>\n",
       "      <td>9063.0</td>\n",
       "      <td>162.0</td>\n",
       "      <td>3149807.0</td>\n",
       "      <td>53044.0</td>\n",
       "      <td>Africa</td>\n",
       "    </tr>\n",
       "  </tbody>\n",
       "</table>\n",
       "</div>"
      ],
      "text/plain": [
       "  Country/Region      Continent    Population  TotalCases  NewCases  \\\n",
       "0            USA  North America  3.311981e+08     5032179       0.0   \n",
       "1         Brazil  South America  2.127107e+08     2917562       0.0   \n",
       "2          India           Asia  1.381345e+09     2025409       0.0   \n",
       "3         Russia         Europe  1.459409e+08      871894       0.0   \n",
       "4   South Africa         Africa  5.938157e+07      538184       0.0   \n",
       "\n",
       "   TotalDeaths  NewDeaths  TotalRecovered  NewRecovered  ActiveCases  \\\n",
       "0     162804.0        0.0       2576668.0           0.0    2292707.0   \n",
       "1      98644.0        0.0       2047660.0           0.0     771258.0   \n",
       "2      41638.0        0.0       1377384.0           0.0     606387.0   \n",
       "3      14606.0        0.0        676357.0           0.0     180931.0   \n",
       "4       9604.0        0.0        387316.0           0.0     141264.0   \n",
       "\n",
       "   Serious,Critical  Tot Cases/1M pop  Deaths/1M pop  TotalTests  \\\n",
       "0           18296.0           15194.0          492.0  63139605.0   \n",
       "1            8318.0           13716.0          464.0  13206188.0   \n",
       "2            8944.0            1466.0           30.0  22149351.0   \n",
       "3            2300.0            5974.0          100.0  29716907.0   \n",
       "4             539.0            9063.0          162.0   3149807.0   \n",
       "\n",
       "   Tests/1M pop      WHO Region  \n",
       "0      190640.0        Americas  \n",
       "1       62085.0        Americas  \n",
       "2       16035.0  South-EastAsia  \n",
       "3      203623.0          Europe  \n",
       "4       53044.0          Africa  "
      ]
     },
     "execution_count": 11,
     "metadata": {},
     "output_type": "execute_result"
    }
   ],
   "source": [
    "happening = ['NewCases','NewDeaths','NewRecovered','Serious,Critical','TotalDeaths','Tests/1M pop','Deaths/1M pop', 'TotalTests','ActiveCases','TotalRecovered']\n",
    "df_world[happening] = df_world[happening].fillna(0)\n",
    "#handling the region names missing values by filling them with ''\n",
    "df_world['WHO Region'] = df_world['WHO Region'].fillna('')\n",
    "df_world.head()"
   ]
  },
  {
   "cell_type": "code",
   "execution_count": 12,
   "id": "fa22f6fb",
   "metadata": {
    "execution": {
     "iopub.execute_input": "2024-08-03T08:39:13.639317Z",
     "iopub.status.busy": "2024-08-03T08:39:13.638838Z",
     "iopub.status.idle": "2024-08-03T08:39:13.648483Z",
     "shell.execute_reply": "2024-08-03T08:39:13.647429Z"
    },
    "papermill": {
     "duration": 0.031119,
     "end_time": "2024-08-03T08:39:13.651246",
     "exception": false,
     "start_time": "2024-08-03T08:39:13.620127",
     "status": "completed"
    },
    "tags": []
   },
   "outputs": [
    {
     "data": {
      "text/plain": [
       "Date                      0\n",
       "Confirmed                 0\n",
       "Deaths                    0\n",
       "Recovered                 0\n",
       "Active                    0\n",
       "New cases                 0\n",
       "New deaths                0\n",
       "New recovered             0\n",
       "Deaths / 100 Cases        0\n",
       "Recovered / 100 Cases     0\n",
       "Deaths / 100 Recovered    0\n",
       "No. of countries          0\n",
       "dtype: int64"
      ]
     },
     "execution_count": 12,
     "metadata": {},
     "output_type": "execute_result"
    }
   ],
   "source": [
    "df_day.isnull().sum()"
   ]
  },
  {
   "cell_type": "markdown",
   "id": "8f294010",
   "metadata": {
    "papermill": {
     "duration": 0.014737,
     "end_time": "2024-08-03T08:39:13.681021",
     "exception": false,
     "start_time": "2024-08-03T08:39:13.666284",
     "status": "completed"
    },
    "tags": []
   },
   "source": [
    "**Checking the duplicates**"
   ]
  },
  {
   "cell_type": "code",
   "execution_count": 13,
   "id": "5768a556",
   "metadata": {
    "execution": {
     "iopub.execute_input": "2024-08-03T08:39:13.712461Z",
     "iopub.status.busy": "2024-08-03T08:39:13.712034Z",
     "iopub.status.idle": "2024-08-03T08:39:13.749847Z",
     "shell.execute_reply": "2024-08-03T08:39:13.748733Z"
    },
    "papermill": {
     "duration": 0.05662,
     "end_time": "2024-08-03T08:39:13.752501",
     "exception": false,
     "start_time": "2024-08-03T08:39:13.695881",
     "status": "completed"
    },
    "tags": []
   },
   "outputs": [
    {
     "data": {
      "text/plain": [
       "0"
      ]
     },
     "execution_count": 13,
     "metadata": {},
     "output_type": "execute_result"
    }
   ],
   "source": [
    "df_covid.duplicated().sum()"
   ]
  },
  {
   "cell_type": "code",
   "execution_count": 14,
   "id": "cc0b1916",
   "metadata": {
    "execution": {
     "iopub.execute_input": "2024-08-03T08:39:13.784958Z",
     "iopub.status.busy": "2024-08-03T08:39:13.784465Z",
     "iopub.status.idle": "2024-08-03T08:39:13.796234Z",
     "shell.execute_reply": "2024-08-03T08:39:13.795001Z"
    },
    "papermill": {
     "duration": 0.031775,
     "end_time": "2024-08-03T08:39:13.799248",
     "exception": false,
     "start_time": "2024-08-03T08:39:13.767473",
     "status": "completed"
    },
    "tags": []
   },
   "outputs": [
    {
     "data": {
      "text/plain": [
       "0"
      ]
     },
     "execution_count": 14,
     "metadata": {},
     "output_type": "execute_result"
    }
   ],
   "source": [
    "df_country.duplicated().sum()"
   ]
  },
  {
   "cell_type": "code",
   "execution_count": 15,
   "id": "4ccd5c93",
   "metadata": {
    "execution": {
     "iopub.execute_input": "2024-08-03T08:39:13.831832Z",
     "iopub.status.busy": "2024-08-03T08:39:13.831413Z",
     "iopub.status.idle": "2024-08-03T08:39:13.843135Z",
     "shell.execute_reply": "2024-08-03T08:39:13.841769Z"
    },
    "papermill": {
     "duration": 0.031744,
     "end_time": "2024-08-03T08:39:13.846322",
     "exception": false,
     "start_time": "2024-08-03T08:39:13.814578",
     "status": "completed"
    },
    "tags": []
   },
   "outputs": [
    {
     "data": {
      "text/plain": [
       "0"
      ]
     },
     "execution_count": 15,
     "metadata": {},
     "output_type": "execute_result"
    }
   ],
   "source": [
    "df_day.duplicated().sum()"
   ]
  },
  {
   "cell_type": "code",
   "execution_count": 16,
   "id": "1f617b1d",
   "metadata": {
    "execution": {
     "iopub.execute_input": "2024-08-03T08:39:13.884766Z",
     "iopub.status.busy": "2024-08-03T08:39:13.884220Z",
     "iopub.status.idle": "2024-08-03T08:39:13.911784Z",
     "shell.execute_reply": "2024-08-03T08:39:13.910473Z"
    },
    "papermill": {
     "duration": 0.052381,
     "end_time": "2024-08-03T08:39:13.914477",
     "exception": false,
     "start_time": "2024-08-03T08:39:13.862096",
     "status": "completed"
    },
    "tags": []
   },
   "outputs": [
    {
     "data": {
      "text/plain": [
       "0"
      ]
     },
     "execution_count": 16,
     "metadata": {},
     "output_type": "execute_result"
    }
   ],
   "source": [
    "df_fgroup.duplicated().sum()"
   ]
  },
  {
   "cell_type": "code",
   "execution_count": 17,
   "id": "1e446c05",
   "metadata": {
    "execution": {
     "iopub.execute_input": "2024-08-03T08:39:13.947086Z",
     "iopub.status.busy": "2024-08-03T08:39:13.946673Z",
     "iopub.status.idle": "2024-08-03T08:39:13.958883Z",
     "shell.execute_reply": "2024-08-03T08:39:13.957666Z"
    },
    "papermill": {
     "duration": 0.031617,
     "end_time": "2024-08-03T08:39:13.961465",
     "exception": false,
     "start_time": "2024-08-03T08:39:13.929848",
     "status": "completed"
    },
    "tags": []
   },
   "outputs": [
    {
     "data": {
      "text/plain": [
       "0"
      ]
     },
     "execution_count": 17,
     "metadata": {},
     "output_type": "execute_result"
    }
   ],
   "source": [
    "df_world.duplicated().sum()"
   ]
  },
  {
   "cell_type": "markdown",
   "id": "ff7216cf",
   "metadata": {
    "papermill": {
     "duration": 0.015185,
     "end_time": "2024-08-03T08:39:13.992832",
     "exception": false,
     "start_time": "2024-08-03T08:39:13.977647",
     "status": "completed"
    },
    "tags": []
   },
   "source": [
    "**No duplicate rows**"
   ]
  },
  {
   "cell_type": "code",
   "execution_count": 18,
   "id": "0b151125",
   "metadata": {
    "execution": {
     "iopub.execute_input": "2024-08-03T08:39:14.025575Z",
     "iopub.status.busy": "2024-08-03T08:39:14.025188Z",
     "iopub.status.idle": "2024-08-03T08:39:14.031588Z",
     "shell.execute_reply": "2024-08-03T08:39:14.030360Z"
    },
    "papermill": {
     "duration": 0.026158,
     "end_time": "2024-08-03T08:39:14.034440",
     "exception": false,
     "start_time": "2024-08-03T08:39:14.008282",
     "status": "completed"
    },
    "tags": []
   },
   "outputs": [
    {
     "name": "stdout",
     "output_type": "stream",
     "text": [
      "{'Recovered', 'WHO Region', 'Active', 'Confirmed', 'Country/Region', 'Deaths'}\n"
     ]
    }
   ],
   "source": [
    "#finding the common columns in between the two datasets that we'd be analysing\n",
    "covid_columns = set(df_covid.columns)\n",
    "country_columns = set(df_country.columns)\n",
    "common_columns = covid_columns & country_columns\n",
    "print(common_columns)"
   ]
  },
  {
   "cell_type": "code",
   "execution_count": 19,
   "id": "e785d115",
   "metadata": {
    "execution": {
     "iopub.execute_input": "2024-08-03T08:39:14.067609Z",
     "iopub.status.busy": "2024-08-03T08:39:14.067226Z",
     "iopub.status.idle": "2024-08-03T08:39:14.129675Z",
     "shell.execute_reply": "2024-08-03T08:39:14.128450Z"
    },
    "papermill": {
     "duration": 0.082453,
     "end_time": "2024-08-03T08:39:14.132397",
     "exception": false,
     "start_time": "2024-08-03T08:39:14.049944",
     "status": "completed"
    },
    "tags": []
   },
   "outputs": [
    {
     "data": {
      "text/html": [
       "<div>\n",
       "<style scoped>\n",
       "    .dataframe tbody tr th:only-of-type {\n",
       "        vertical-align: middle;\n",
       "    }\n",
       "\n",
       "    .dataframe tbody tr th {\n",
       "        vertical-align: top;\n",
       "    }\n",
       "\n",
       "    .dataframe thead th {\n",
       "        text-align: right;\n",
       "    }\n",
       "</style>\n",
       "<table border=\"1\" class=\"dataframe\">\n",
       "  <thead>\n",
       "    <tr style=\"text-align: right;\">\n",
       "      <th></th>\n",
       "      <th>Province/State</th>\n",
       "      <th>Country/Region</th>\n",
       "      <th>Lat</th>\n",
       "      <th>Long</th>\n",
       "      <th>Date</th>\n",
       "      <th>Confirmed</th>\n",
       "      <th>Deaths</th>\n",
       "      <th>Recovered</th>\n",
       "      <th>Active</th>\n",
       "      <th>WHO Region</th>\n",
       "      <th>New cases</th>\n",
       "      <th>New deaths</th>\n",
       "      <th>New recovered</th>\n",
       "      <th>Deaths / 100 Cases</th>\n",
       "      <th>Recovered / 100 Cases</th>\n",
       "      <th>Deaths / 100 Recovered</th>\n",
       "      <th>Confirmed last week</th>\n",
       "      <th>1 week change</th>\n",
       "      <th>1 week % increase</th>\n",
       "    </tr>\n",
       "  </thead>\n",
       "  <tbody>\n",
       "    <tr>\n",
       "      <th>0</th>\n",
       "      <td></td>\n",
       "      <td>Timor-Leste</td>\n",
       "      <td>-8.874217</td>\n",
       "      <td>125.727539</td>\n",
       "      <td>2020-04-24</td>\n",
       "      <td>24</td>\n",
       "      <td>0</td>\n",
       "      <td>0</td>\n",
       "      <td>24</td>\n",
       "      <td>South-East Asia</td>\n",
       "      <td>0</td>\n",
       "      <td>0</td>\n",
       "      <td>0</td>\n",
       "      <td>0.0</td>\n",
       "      <td>0.0</td>\n",
       "      <td>0.0</td>\n",
       "      <td>24</td>\n",
       "      <td>0</td>\n",
       "      <td>0.0</td>\n",
       "    </tr>\n",
       "    <tr>\n",
       "      <th>1</th>\n",
       "      <td></td>\n",
       "      <td>Timor-Leste</td>\n",
       "      <td>-8.874217</td>\n",
       "      <td>125.727539</td>\n",
       "      <td>2020-04-25</td>\n",
       "      <td>24</td>\n",
       "      <td>0</td>\n",
       "      <td>0</td>\n",
       "      <td>24</td>\n",
       "      <td>South-East Asia</td>\n",
       "      <td>0</td>\n",
       "      <td>0</td>\n",
       "      <td>0</td>\n",
       "      <td>0.0</td>\n",
       "      <td>0.0</td>\n",
       "      <td>0.0</td>\n",
       "      <td>24</td>\n",
       "      <td>0</td>\n",
       "      <td>0.0</td>\n",
       "    </tr>\n",
       "    <tr>\n",
       "      <th>2</th>\n",
       "      <td></td>\n",
       "      <td>Timor-Leste</td>\n",
       "      <td>-8.874217</td>\n",
       "      <td>125.727539</td>\n",
       "      <td>2020-04-26</td>\n",
       "      <td>24</td>\n",
       "      <td>0</td>\n",
       "      <td>0</td>\n",
       "      <td>24</td>\n",
       "      <td>South-East Asia</td>\n",
       "      <td>0</td>\n",
       "      <td>0</td>\n",
       "      <td>0</td>\n",
       "      <td>0.0</td>\n",
       "      <td>0.0</td>\n",
       "      <td>0.0</td>\n",
       "      <td>24</td>\n",
       "      <td>0</td>\n",
       "      <td>0.0</td>\n",
       "    </tr>\n",
       "    <tr>\n",
       "      <th>3</th>\n",
       "      <td></td>\n",
       "      <td>Timor-Leste</td>\n",
       "      <td>-8.874217</td>\n",
       "      <td>125.727539</td>\n",
       "      <td>2020-04-27</td>\n",
       "      <td>24</td>\n",
       "      <td>0</td>\n",
       "      <td>0</td>\n",
       "      <td>24</td>\n",
       "      <td>South-East Asia</td>\n",
       "      <td>0</td>\n",
       "      <td>0</td>\n",
       "      <td>0</td>\n",
       "      <td>0.0</td>\n",
       "      <td>0.0</td>\n",
       "      <td>0.0</td>\n",
       "      <td>24</td>\n",
       "      <td>0</td>\n",
       "      <td>0.0</td>\n",
       "    </tr>\n",
       "    <tr>\n",
       "      <th>4</th>\n",
       "      <td></td>\n",
       "      <td>Timor-Leste</td>\n",
       "      <td>-8.874217</td>\n",
       "      <td>125.727539</td>\n",
       "      <td>2020-04-28</td>\n",
       "      <td>24</td>\n",
       "      <td>0</td>\n",
       "      <td>0</td>\n",
       "      <td>24</td>\n",
       "      <td>South-East Asia</td>\n",
       "      <td>0</td>\n",
       "      <td>0</td>\n",
       "      <td>0</td>\n",
       "      <td>0.0</td>\n",
       "      <td>0.0</td>\n",
       "      <td>0.0</td>\n",
       "      <td>24</td>\n",
       "      <td>0</td>\n",
       "      <td>0.0</td>\n",
       "    </tr>\n",
       "  </tbody>\n",
       "</table>\n",
       "</div>"
      ],
      "text/plain": [
       "  Province/State Country/Region       Lat        Long        Date  Confirmed  \\\n",
       "0                   Timor-Leste -8.874217  125.727539  2020-04-24         24   \n",
       "1                   Timor-Leste -8.874217  125.727539  2020-04-25         24   \n",
       "2                   Timor-Leste -8.874217  125.727539  2020-04-26         24   \n",
       "3                   Timor-Leste -8.874217  125.727539  2020-04-27         24   \n",
       "4                   Timor-Leste -8.874217  125.727539  2020-04-28         24   \n",
       "\n",
       "   Deaths  Recovered  Active       WHO Region  New cases  New deaths  \\\n",
       "0       0          0      24  South-East Asia          0           0   \n",
       "1       0          0      24  South-East Asia          0           0   \n",
       "2       0          0      24  South-East Asia          0           0   \n",
       "3       0          0      24  South-East Asia          0           0   \n",
       "4       0          0      24  South-East Asia          0           0   \n",
       "\n",
       "   New recovered  Deaths / 100 Cases  Recovered / 100 Cases  \\\n",
       "0              0                 0.0                    0.0   \n",
       "1              0                 0.0                    0.0   \n",
       "2              0                 0.0                    0.0   \n",
       "3              0                 0.0                    0.0   \n",
       "4              0                 0.0                    0.0   \n",
       "\n",
       "   Deaths / 100 Recovered  Confirmed last week  1 week change  \\\n",
       "0                     0.0                   24              0   \n",
       "1                     0.0                   24              0   \n",
       "2                     0.0                   24              0   \n",
       "3                     0.0                   24              0   \n",
       "4                     0.0                   24              0   \n",
       "\n",
       "   1 week % increase  \n",
       "0                0.0  \n",
       "1                0.0  \n",
       "2                0.0  \n",
       "3                0.0  \n",
       "4                0.0  "
      ]
     },
     "execution_count": 19,
     "metadata": {},
     "output_type": "execute_result"
    }
   ],
   "source": [
    "commons = ['WHO Region', 'Recovered', 'Country/Region', 'Deaths', 'Active', 'Confirmed']\n",
    "merged_covcountry = pd.merge(df_covid, df_country, on=commons, how='inner')\n",
    "merged_covcountry.head()"
   ]
  },
  {
   "cell_type": "code",
   "execution_count": 20,
   "id": "ea45d27e",
   "metadata": {
    "execution": {
     "iopub.execute_input": "2024-08-03T08:39:14.166772Z",
     "iopub.status.busy": "2024-08-03T08:39:14.166375Z",
     "iopub.status.idle": "2024-08-03T08:39:14.588996Z",
     "shell.execute_reply": "2024-08-03T08:39:14.587721Z"
    },
    "papermill": {
     "duration": 0.443461,
     "end_time": "2024-08-03T08:39:14.591851",
     "exception": false,
     "start_time": "2024-08-03T08:39:14.148390",
     "status": "completed"
    },
    "tags": []
   },
   "outputs": [
    {
     "data": {
      "image/png": "[encoded data removed]",
      "text/plain": [
       "<Figure size 1200x600 with 1 Axes>"
      ]
     },
     "metadata": {},
     "output_type": "display_data"
    }
   ],
   "source": [
    "sns.set(style=\"darkgrid\")  \n",
    "allcases = ['Confirmed', 'Deaths', 'Recovered', 'Active']\n",
    "plt.figure(figsize=(12, 6))  \n",
    "sns.boxplot(data=merged_covcountry[allcases], orient='h', palette='Set2', color = 'r')\n",
    "plt.xlabel(f'{allcases} cases')\n",
    "plt.title('Corona distribution')\n",
    "plt.show()"
   ]
  },
  {
   "cell_type": "markdown",
   "id": "77104cf9",
   "metadata": {
    "papermill": {
     "duration": 0.016759,
     "end_time": "2024-08-03T08:39:14.625366",
     "exception": false,
     "start_time": "2024-08-03T08:39:14.608607",
     "status": "completed"
    },
    "tags": []
   },
   "source": [
    "**Distribution of all cases worlwide**"
   ]
  },
  {
   "cell_type": "code",
   "execution_count": 21,
   "id": "879f3fd5",
   "metadata": {
    "execution": {
     "iopub.execute_input": "2024-08-03T08:39:14.660254Z",
     "iopub.status.busy": "2024-08-03T08:39:14.659827Z",
     "iopub.status.idle": "2024-08-03T08:39:15.123133Z",
     "shell.execute_reply": "2024-08-03T08:39:15.121882Z"
    },
    "papermill": {
     "duration": 0.484568,
     "end_time": "2024-08-03T08:39:15.126397",
     "exception": false,
     "start_time": "2024-08-03T08:39:14.641829",
     "status": "completed"
    },
    "tags": []
   },
   "outputs": [
    {
     "data": {
      "image/png": "[encoded data removed]",
      "text/plain": [
       "<Figure size 800x800 with 1 Axes>"
      ]
     },
     "metadata": {},
     "output_type": "display_data"
    }
   ],
   "source": [
    "df_intotalcases = merged_covcountry[['Confirmed','Recovered', 'Deaths', 'Active']].sum()\n",
    "label = ['Confirmed','Recovered', 'Deaths', 'Active']\n",
    "color_scale = ['#590d22','#a4133c','#ff4d6d','#ff8fa3']\n",
    "plt.figure(figsize = (8,8))\n",
    "plt.pie(df_intotalcases, labels = label, autopct = '%1.1f%%', explode = (0,0,0.1,0) ,colors = color_scale, startangle = 140, shadow = True, textprops={'color': 'white','weight': 'bold'})\n",
    "plt.title(\"Distributions of all cases worlwide\", fontsize = 20)\n",
    "plt.axis('equal')\n",
    "plt.legend()\n",
    "plt.tight_layout()\n",
    "plt.show()"
   ]
  },
  {
   "cell_type": "markdown",
   "id": "14f33fb9",
   "metadata": {
    "papermill": {
     "duration": 0.017599,
     "end_time": "2024-08-03T08:39:15.161798",
     "exception": false,
     "start_time": "2024-08-03T08:39:15.144199",
     "status": "completed"
    },
    "tags": []
   },
   "source": [
    "It's seen that half of the cases are of from \"confirmed\" which tells us that the world is in an outspread of corona disease and massive amounts of treatments and quarantines are needed to increase the percentage of \"recovered\" cases. \n",
    "\n",
    "However, death rate had been the least among all the cases.\n",
    "\n",
    "We need to take immediate measures to lessen these death rate and send help to country/region that  needs the most."
   ]
  },
  {
   "cell_type": "code",
   "execution_count": 22,
   "id": "b3fe4db9",
   "metadata": {
    "execution": {
     "iopub.execute_input": "2024-08-03T08:39:15.199810Z",
     "iopub.status.busy": "2024-08-03T08:39:15.199399Z",
     "iopub.status.idle": "2024-08-03T08:39:15.817173Z",
     "shell.execute_reply": "2024-08-03T08:39:15.815448Z"
    },
    "papermill": {
     "duration": 0.640391,
     "end_time": "2024-08-03T08:39:15.820079",
     "exception": false,
     "start_time": "2024-08-03T08:39:15.179688",
     "status": "completed"
    },
    "tags": []
   },
   "outputs": [
    {
     "data": {
      "image/png": "[encoded data removed]",
      "text/plain": [
       "<Figure size 1000x1000 with 1 Axes>"
      ]
     },
     "metadata": {},
     "output_type": "display_data"
    }
   ],
   "source": [
    "country_totals = merged_covcountry.groupby('Country/Region')['Confirmed'].sum().nlargest(10)\n",
    "plt.figure(figsize=(10,10))\n",
    "plt.pie(country_totals, labels=country_totals.index, autopct='%1.1f%%', startangle=140)\n",
    "plt.title('Distribution of Confirmed Cases by Country/Region (Top 10)', fontsize = 16, color='r', loc='left', horizontalalignment='center')\n",
    "plt.axis('equal')  \n",
    "plt.legend()\n",
    "plt.tight_layout()\n",
    "plt.show()\n"
   ]
  },
  {
   "cell_type": "markdown",
   "id": "2d7cc1b1",
   "metadata": {
    "papermill": {
     "duration": 0.019639,
     "end_time": "2024-08-03T08:39:15.859632",
     "exception": false,
     "start_time": "2024-08-03T08:39:15.839993",
     "status": "completed"
    },
    "tags": []
   },
   "source": [
    "It has been seen that the majority of confirmed cases are seen in US at 35.8% and it's in a worse state and in need of immediate measures and quarantines. Thus we can infer that they have higher chances of not able to be recovered simulatenously as the whole world is in need of healthcare as well."
   ]
  },
  {
   "cell_type": "markdown",
   "id": "077e1311",
   "metadata": {
    "papermill": {
     "duration": 0.020954,
     "end_time": "2024-08-03T08:39:15.902543",
     "exception": false,
     "start_time": "2024-08-03T08:39:15.881589",
     "status": "completed"
    },
    "tags": []
   },
   "source": [
    "**Analysis on Recovered cases**"
   ]
  },
  {
   "cell_type": "code",
   "execution_count": 23,
   "id": "a9df4d7c",
   "metadata": {
    "execution": {
     "iopub.execute_input": "2024-08-03T08:39:15.945063Z",
     "iopub.status.busy": "2024-08-03T08:39:15.944605Z",
     "iopub.status.idle": "2024-08-03T08:39:15.963040Z",
     "shell.execute_reply": "2024-08-03T08:39:15.961904Z"
    },
    "papermill": {
     "duration": 0.042739,
     "end_time": "2024-08-03T08:39:15.965784",
     "exception": false,
     "start_time": "2024-08-03T08:39:15.923045",
     "status": "completed"
    },
    "tags": []
   },
   "outputs": [
    {
     "data": {
      "text/html": [
       "<div>\n",
       "<style scoped>\n",
       "    .dataframe tbody tr th:only-of-type {\n",
       "        vertical-align: middle;\n",
       "    }\n",
       "\n",
       "    .dataframe tbody tr th {\n",
       "        vertical-align: top;\n",
       "    }\n",
       "\n",
       "    .dataframe thead th {\n",
       "        text-align: right;\n",
       "    }\n",
       "</style>\n",
       "<table border=\"1\" class=\"dataframe\">\n",
       "  <thead>\n",
       "    <tr style=\"text-align: right;\">\n",
       "      <th></th>\n",
       "      <th>Country/Region</th>\n",
       "      <th>Recovered</th>\n",
       "    </tr>\n",
       "  </thead>\n",
       "  <tbody>\n",
       "    <tr>\n",
       "      <th>173</th>\n",
       "      <td>US</td>\n",
       "      <td>56353416</td>\n",
       "    </tr>\n",
       "    <tr>\n",
       "      <th>23</th>\n",
       "      <td>Brazil</td>\n",
       "      <td>54492873</td>\n",
       "    </tr>\n",
       "    <tr>\n",
       "      <th>138</th>\n",
       "      <td>Russia</td>\n",
       "      <td>25120448</td>\n",
       "    </tr>\n",
       "    <tr>\n",
       "      <th>79</th>\n",
       "      <td>India</td>\n",
       "      <td>23783720</td>\n",
       "    </tr>\n",
       "    <tr>\n",
       "      <th>65</th>\n",
       "      <td>Germany</td>\n",
       "      <td>17107839</td>\n",
       "    </tr>\n",
       "  </tbody>\n",
       "</table>\n",
       "</div>"
      ],
      "text/plain": [
       "    Country/Region  Recovered\n",
       "173             US   56353416\n",
       "23          Brazil   54492873\n",
       "138         Russia   25120448\n",
       "79           India   23783720\n",
       "65         Germany   17107839"
      ]
     },
     "execution_count": 23,
     "metadata": {},
     "output_type": "execute_result"
    }
   ],
   "source": [
    "df_target_recover = df_fgroup.groupby('Country/Region')['Recovered'].sum().reset_index()\n",
    "df_target_recover.sort_values(by = 'Recovered', ascending = False).head()"
   ]
  },
  {
   "cell_type": "code",
   "execution_count": 24,
   "id": "00219cf7",
   "metadata": {
    "execution": {
     "iopub.execute_input": "2024-08-03T08:39:16.073693Z",
     "iopub.status.busy": "2024-08-03T08:39:16.073275Z",
     "iopub.status.idle": "2024-08-03T08:39:16.098143Z",
     "shell.execute_reply": "2024-08-03T08:39:16.096872Z"
    },
    "papermill": {
     "duration": 0.049388,
     "end_time": "2024-08-03T08:39:16.100865",
     "exception": false,
     "start_time": "2024-08-03T08:39:16.051477",
     "status": "completed"
    },
    "tags": []
   },
   "outputs": [
    {
     "data": {
      "text/plain": [
       "0           0\n",
       "1           0\n",
       "2           0\n",
       "3           0\n",
       "4           0\n",
       "         ... \n",
       "35151    3752\n",
       "35152       8\n",
       "35153     833\n",
       "35154    2815\n",
       "35155     542\n",
       "Name: Recovered, Length: 35156, dtype: int64"
      ]
     },
     "execution_count": 24,
     "metadata": {},
     "output_type": "execute_result"
    }
   ],
   "source": [
    "df_fgroup.groupby(['Country/Region', 'Date'])['Recovered'].transform('sum')"
   ]
  },
  {
   "cell_type": "code",
   "execution_count": 25,
   "id": "13e12043",
   "metadata": {
    "execution": {
     "iopub.execute_input": "2024-08-03T08:39:16.143949Z",
     "iopub.status.busy": "2024-08-03T08:39:16.143496Z",
     "iopub.status.idle": "2024-08-03T08:39:16.165796Z",
     "shell.execute_reply": "2024-08-03T08:39:16.164724Z"
    },
    "papermill": {
     "duration": 0.046692,
     "end_time": "2024-08-03T08:39:16.168292",
     "exception": false,
     "start_time": "2024-08-03T08:39:16.121600",
     "status": "completed"
    },
    "tags": []
   },
   "outputs": [
    {
     "data": {
      "text/html": [
       "<div>\n",
       "<style scoped>\n",
       "    .dataframe tbody tr th:only-of-type {\n",
       "        vertical-align: middle;\n",
       "    }\n",
       "\n",
       "    .dataframe tbody tr th {\n",
       "        vertical-align: top;\n",
       "    }\n",
       "\n",
       "    .dataframe thead th {\n",
       "        text-align: right;\n",
       "    }\n",
       "</style>\n",
       "<table border=\"1\" class=\"dataframe\">\n",
       "  <thead>\n",
       "    <tr style=\"text-align: right;\">\n",
       "      <th></th>\n",
       "      <th>Country/Region</th>\n",
       "      <th>Confirmed</th>\n",
       "      <th>Recovered</th>\n",
       "      <th>Deaths</th>\n",
       "      <th>Active</th>\n",
       "    </tr>\n",
       "  </thead>\n",
       "  <tbody>\n",
       "    <tr>\n",
       "      <th>0</th>\n",
       "      <td>US</td>\n",
       "      <td>224345948</td>\n",
       "      <td>56353416</td>\n",
       "      <td>11011411</td>\n",
       "      <td>156981121</td>\n",
       "    </tr>\n",
       "  </tbody>\n",
       "</table>\n",
       "</div>"
      ],
      "text/plain": [
       "  Country/Region  Confirmed  Recovered    Deaths     Active\n",
       "0             US  224345948   56353416  11011411  156981121"
      ]
     },
     "execution_count": 25,
     "metadata": {},
     "output_type": "execute_result"
    }
   ],
   "source": [
    "us_cases = df_fgroup[df_fgroup['Country/Region'] == 'US'].groupby('Country/Region')[['Confirmed', 'Recovered', 'Deaths', 'Active']].sum().reset_index()\n",
    "us_cases"
   ]
  },
  {
   "cell_type": "code",
   "execution_count": 26,
   "id": "68279d83",
   "metadata": {
    "execution": {
     "iopub.execute_input": "2024-08-03T08:39:16.211721Z",
     "iopub.status.busy": "2024-08-03T08:39:16.211298Z",
     "iopub.status.idle": "2024-08-03T08:39:16.628436Z",
     "shell.execute_reply": "2024-08-03T08:39:16.627253Z"
    },
    "papermill": {
     "duration": 0.441891,
     "end_time": "2024-08-03T08:39:16.631044",
     "exception": false,
     "start_time": "2024-08-03T08:39:16.189153",
     "status": "completed"
    },
    "tags": []
   },
   "outputs": [
    {
     "data": {
      "text/plain": [
       "Text(0, 0.5, 'Number of Cases')"
      ]
     },
     "execution_count": 26,
     "metadata": {},
     "output_type": "execute_result"
    },
    {
     "data": {
      "image/png": "[encoded data removed]",
      "text/plain": [
       "<Figure size 1000x600 with 1 Axes>"
      ]
     },
     "metadata": {},
     "output_type": "display_data"
    }
   ],
   "source": [
    "us_cases.set_index('Country/Region', inplace=True)\n",
    "pp = ['#780000', '#cdb4db','#fb8500', '#06d6a0']\n",
    "ax = us_cases[['Confirmed','Recovered', 'Deaths', 'Active']].plot(kind='bar', stacked=True, figsize=(10, 6),color = pp )\n",
    "plt.title('COVID-19 Cases in US')\n",
    "plt.xlabel('Country/Region')\n",
    "plt.ylabel('Number of Cases')"
   ]
  },
  {
   "cell_type": "code",
   "execution_count": 27,
   "id": "80e25e37",
   "metadata": {
    "execution": {
     "iopub.execute_input": "2024-08-03T08:39:16.676090Z",
     "iopub.status.busy": "2024-08-03T08:39:16.675653Z",
     "iopub.status.idle": "2024-08-03T08:39:17.353623Z",
     "shell.execute_reply": "2024-08-03T08:39:17.352487Z"
    },
    "papermill": {
     "duration": 0.703798,
     "end_time": "2024-08-03T08:39:17.356396",
     "exception": false,
     "start_time": "2024-08-03T08:39:16.652598",
     "status": "completed"
    },
    "tags": []
   },
   "outputs": [
    {
     "data": {
      "text/html": [
       "        <script type=\"text/javascript\">\n",
       "        window.PlotlyConfig = {MathJaxConfig: 'local'};\n",
       "        if (window.MathJax && window.MathJax.Hub && window.MathJax.Hub.Config) {window.MathJax.Hub.Config({SVG: {font: \"STIX-Web\"}});}\n",
       "        if (typeof require !== 'undefined') {\n",
       "        require.undef(\"plotly\");\n",
       "        requirejs.config({\n",
       "            paths: {\n",
       "                'plotly': ['https://cdn.plot.ly/plotly-2.27.0.min']\n",
       "            }\n",
       "        });\n",
       "        require(['plotly'], function(Plotly) {\n",
       "            window._Plotly = Plotly;\n",
       "        });\n",
       "        }\n",
       "        </script>\n",
       "        "
      ]
     },
     "metadata": {},
     "output_type": "display_data"
    },
    {
     "data": {
      "text/html": [
       "<div>                            <div id=\"ad6e3718-59ce-4bbd-861a-6853ebcbafdb\" class=\"plotly-graph-div\" style=\"height:900px; width:100%;\"></div>            <script type=\"text/javascript\">                require([\"plotly\"], function(Plotly) {                    window.PLOTLYENV=window.PLOTLYENV || {};                                    if (document.getElementById(\"ad6e3718-59ce-4bbd-861a-6853ebcbafdb\")) {                    Plotly.newPlot(                        \"ad6e3718-59ce-4bbd-861a-6853ebcbafdb\",                        [{\"alignmentgroup\":\"True\",\"hovertemplate\":\"Confirmed=%{marker.color}\\u003cbr\\u003eCountry\\u002fRegion=%{y}\\u003cextra\\u003e\\u003c\\u002fextra\\u003e\",\"legendgroup\":\"\",\"marker\":{\"color\":[109597,112585,167416,207112,226225,227019,246286,257101,268934,274289,293606,347923,389717,395489,452529,816680,1089684,1480073,2442375,4290259],\"coloraxis\":\"coloraxis\",\"pattern\":{\"shape\":\"\"}},\"name\":\"\",\"offsetgroup\":\"\",\"orientation\":\"h\",\"showlegend\":false,\"text\":[109597.0,112585.0,167416.0,207112.0,226225.0,227019.0,246286.0,257101.0,268934.0,274289.0,293606.0,347923.0,389717.0,395489.0,452529.0,816680.0,1089684.0,1480073.0,2442375.0,4290259.0],\"textposition\":\"auto\",\"x\":[109597,112585,167416,207112,226225,227019,246286,257101,268934,274289,293606,347923,389717,395489,452529,816680,1089684,1480073,2442375,4290259],\"xaxis\":\"x\",\"y\":[\"Qatar\",\"Iraq\",\"Argentina\",\"Germany\",\"Bangladesh\",\"Turkey\",\"Italy\",\"Colombia\",\"Saudi Arabia\",\"Pakistan\",\"Iran\",\"Chile\",\"Peru\",\"Mexico\",\"South Africa\",\"Russia\",\"Spain\",\"India\",\"Brazil\",\"US\"],\"yaxis\":\"y\",\"type\":\"bar\"}],                        {\"template\":{\"data\":{\"histogram2dcontour\":[{\"type\":\"histogram2dcontour\",\"colorbar\":{\"outlinewidth\":0,\"ticks\":\"\"},\"colorscale\":[[0.0,\"#0d0887\"],[0.1111111111111111,\"#46039f\"],[0.2222222222222222,\"#7201a8\"],[0.3333333333333333,\"#9c179e\"],[0.4444444444444444,\"#bd3786\"],[0.5555555555555556,\"#d8576b\"],[0.6666666666666666,\"#ed7953\"],[0.7777777777777778,\"#fb9f3a\"],[0.8888888888888888,\"#fdca26\"],[1.0,\"#f0f921\"]]}],\"choropleth\":[{\"type\":\"choropleth\",\"colorbar\":{\"outlinewidth\":0,\"ticks\":\"\"}}],\"histogram2d\":[{\"type\":\"histogram2d\",\"colorbar\":{\"outlinewidth\":0,\"ticks\":\"\"},\"colorscale\":[[0.0,\"#0d0887\"],[0.1111111111111111,\"#46039f\"],[0.2222222222222222,\"#7201a8\"],[0.3333333333333333,\"#9c179e\"],[0.4444444444444444,\"#bd3786\"],[0.5555555555555556,\"#d8576b\"],[0.6666666666666666,\"#ed7953\"],[0.7777777777777778,\"#fb9f3a\"],[0.8888888888888888,\"#fdca26\"],[1.0,\"#f0f921\"]]}],\"heatmap\":[{\"type\":\"heatmap\",\"colorbar\":{\"outlinewidth\":0,\"ticks\":\"\"},\"colorscale\":[[0.0,\"#0d0887\"],[0.1111111111111111,\"#46039f\"],[0.2222222222222222,\"#7201a8\"],[0.3333333333333333,\"#9c179e\"],[0.4444444444444444,\"#bd3786\"],[0.5555555555555556,\"#d8576b\"],[0.6666666666666666,\"#ed7953\"],[0.7777777777777778,\"#fb9f3a\"],[0.8888888888888888,\"#fdca26\"],[1.0,\"#f0f921\"]]}],\"heatmapgl\":[{\"type\":\"heatmapgl\",\"colorbar\":{\"outlinewidth\":0,\"ticks\":\"\"},\"colorscale\":[[0.0,\"#0d0887\"],[0.1111111111111111,\"#46039f\"],[0.2222222222222222,\"#7201a8\"],[0.3333333333333333,\"#9c179e\"],[0.4444444444444444,\"#bd3786\"],[0.5555555555555556,\"#d8576b\"],[0.6666666666666666,\"#ed7953\"],[0.7777777777777778,\"#fb9f3a\"],[0.8888888888888888,\"#fdca26\"],[1.0,\"#f0f921\"]]}],\"contourcarpet\":[{\"type\":\"contourcarpet\",\"colorbar\":{\"outlinewidth\":0,\"ticks\":\"\"}}],\"contour\":[{\"type\":\"contour\",\"colorbar\":{\"outlinewidth\":0,\"ticks\":\"\"},\"colorscale\":[[0.0,\"#0d0887\"],[0.1111111111111111,\"#46039f\"],[0.2222222222222222,\"#7201a8\"],[0.3333333333333333,\"#9c179e\"],[0.4444444444444444,\"#bd3786\"],[0.5555555555555556,\"#d8576b\"],[0.6666666666666666,\"#ed7953\"],[0.7777777777777778,\"#fb9f3a\"],[0.8888888888888888,\"#fdca26\"],[1.0,\"#f0f921\"]]}],\"surface\":[{\"type\":\"surface\",\"colorbar\":{\"outlinewidth\":0,\"ticks\":\"\"},\"colorscale\":[[0.0,\"#0d0887\"],[0.1111111111111111,\"#46039f\"],[0.2222222222222222,\"#7201a8\"],[0.3333333333333333,\"#9c179e\"],[0.4444444444444444,\"#bd3786\"],[0.5555555555555556,\"#d8576b\"],[0.6666666666666666,\"#ed7953\"],[0.7777777777777778,\"#fb9f3a\"],[0.8888888888888888,\"#fdca26\"],[1.0,\"#f0f921\"]]}],\"mesh3d\":[{\"type\":\"mesh3d\",\"colorbar\":{\"outlinewidth\":0,\"ticks\":\"\"}}],\"scatter\":[{\"marker\":{\"line\":{\"color\":\"#283442\"}},\"type\":\"scatter\"}],\"parcoords\":[{\"type\":\"parcoords\",\"line\":{\"colorbar\":{\"outlinewidth\":0,\"ticks\":\"\"}}}],\"scatterpolargl\":[{\"type\":\"scatterpolargl\",\"marker\":{\"colorbar\":{\"outlinewidth\":0,\"ticks\":\"\"}}}],\"bar\":[{\"error_x\":{\"color\":\"#f2f5fa\"},\"error_y\":{\"color\":\"#f2f5fa\"},\"marker\":{\"line\":{\"color\":\"rgb(17,17,17)\",\"width\":0.5},\"pattern\":{\"fillmode\":\"overlay\",\"size\":10,\"solidity\":0.2}},\"type\":\"bar\"}],\"scattergeo\":[{\"type\":\"scattergeo\",\"marker\":{\"colorbar\":{\"outlinewidth\":0,\"ticks\":\"\"}}}],\"scatterpolar\":[{\"type\":\"scatterpolar\",\"marker\":{\"colorbar\":{\"outlinewidth\":0,\"ticks\":\"\"}}}],\"histogram\":[{\"marker\":{\"pattern\":{\"fillmode\":\"overlay\",\"size\":10,\"solidity\":0.2}},\"type\":\"histogram\"}],\"scattergl\":[{\"marker\":{\"line\":{\"color\":\"#283442\"}},\"type\":\"scattergl\"}],\"scatter3d\":[{\"type\":\"scatter3d\",\"line\":{\"colorbar\":{\"outlinewidth\":0,\"ticks\":\"\"}},\"marker\":{\"colorbar\":{\"outlinewidth\":0,\"ticks\":\"\"}}}],\"scattermapbox\":[{\"type\":\"scattermapbox\",\"marker\":{\"colorbar\":{\"outlinewidth\":0,\"ticks\":\"\"}}}],\"scatterternary\":[{\"type\":\"scatterternary\",\"marker\":{\"colorbar\":{\"outlinewidth\":0,\"ticks\":\"\"}}}],\"scattercarpet\":[{\"type\":\"scattercarpet\",\"marker\":{\"colorbar\":{\"outlinewidth\":0,\"ticks\":\"\"}}}],\"carpet\":[{\"aaxis\":{\"endlinecolor\":\"#A2B1C6\",\"gridcolor\":\"#506784\",\"linecolor\":\"#506784\",\"minorgridcolor\":\"#506784\",\"startlinecolor\":\"#A2B1C6\"},\"baxis\":{\"endlinecolor\":\"#A2B1C6\",\"gridcolor\":\"#506784\",\"linecolor\":\"#506784\",\"minorgridcolor\":\"#506784\",\"startlinecolor\":\"#A2B1C6\"},\"type\":\"carpet\"}],\"table\":[{\"cells\":{\"fill\":{\"color\":\"#506784\"},\"line\":{\"color\":\"rgb(17,17,17)\"}},\"header\":{\"fill\":{\"color\":\"#2a3f5f\"},\"line\":{\"color\":\"rgb(17,17,17)\"}},\"type\":\"table\"}],\"barpolar\":[{\"marker\":{\"line\":{\"color\":\"rgb(17,17,17)\",\"width\":0.5},\"pattern\":{\"fillmode\":\"overlay\",\"size\":10,\"solidity\":0.2}},\"type\":\"barpolar\"}],\"pie\":[{\"automargin\":true,\"type\":\"pie\"}]},\"layout\":{\"autotypenumbers\":\"strict\",\"colorway\":[\"#636efa\",\"#EF553B\",\"#00cc96\",\"#ab63fa\",\"#FFA15A\",\"#19d3f3\",\"#FF6692\",\"#B6E880\",\"#FF97FF\",\"#FECB52\"],\"font\":{\"color\":\"#f2f5fa\"},\"hovermode\":\"closest\",\"hoverlabel\":{\"align\":\"left\"},\"paper_bgcolor\":\"rgb(17,17,17)\",\"plot_bgcolor\":\"rgb(17,17,17)\",\"polar\":{\"bgcolor\":\"rgb(17,17,17)\",\"angularaxis\":{\"gridcolor\":\"#506784\",\"linecolor\":\"#506784\",\"ticks\":\"\"},\"radialaxis\":{\"gridcolor\":\"#506784\",\"linecolor\":\"#506784\",\"ticks\":\"\"}},\"ternary\":{\"bgcolor\":\"rgb(17,17,17)\",\"aaxis\":{\"gridcolor\":\"#506784\",\"linecolor\":\"#506784\",\"ticks\":\"\"},\"baxis\":{\"gridcolor\":\"#506784\",\"linecolor\":\"#506784\",\"ticks\":\"\"},\"caxis\":{\"gridcolor\":\"#506784\",\"linecolor\":\"#506784\",\"ticks\":\"\"}},\"coloraxis\":{\"colorbar\":{\"outlinewidth\":0,\"ticks\":\"\"}},\"colorscale\":{\"sequential\":[[0.0,\"#0d0887\"],[0.1111111111111111,\"#46039f\"],[0.2222222222222222,\"#7201a8\"],[0.3333333333333333,\"#9c179e\"],[0.4444444444444444,\"#bd3786\"],[0.5555555555555556,\"#d8576b\"],[0.6666666666666666,\"#ed7953\"],[0.7777777777777778,\"#fb9f3a\"],[0.8888888888888888,\"#fdca26\"],[1.0,\"#f0f921\"]],\"sequentialminus\":[[0.0,\"#0d0887\"],[0.1111111111111111,\"#46039f\"],[0.2222222222222222,\"#7201a8\"],[0.3333333333333333,\"#9c179e\"],[0.4444444444444444,\"#bd3786\"],[0.5555555555555556,\"#d8576b\"],[0.6666666666666666,\"#ed7953\"],[0.7777777777777778,\"#fb9f3a\"],[0.8888888888888888,\"#fdca26\"],[1.0,\"#f0f921\"]],\"diverging\":[[0,\"#8e0152\"],[0.1,\"#c51b7d\"],[0.2,\"#de77ae\"],[0.3,\"#f1b6da\"],[0.4,\"#fde0ef\"],[0.5,\"#f7f7f7\"],[0.6,\"#e6f5d0\"],[0.7,\"#b8e186\"],[0.8,\"#7fbc41\"],[0.9,\"#4d9221\"],[1,\"#276419\"]]},\"xaxis\":{\"gridcolor\":\"#283442\",\"linecolor\":\"#506784\",\"ticks\":\"\",\"title\":{\"standoff\":15},\"zerolinecolor\":\"#283442\",\"automargin\":true,\"zerolinewidth\":2},\"yaxis\":{\"gridcolor\":\"#283442\",\"linecolor\":\"#506784\",\"ticks\":\"\",\"title\":{\"standoff\":15},\"zerolinecolor\":\"#283442\",\"automargin\":true,\"zerolinewidth\":2},\"scene\":{\"xaxis\":{\"backgroundcolor\":\"rgb(17,17,17)\",\"gridcolor\":\"#506784\",\"linecolor\":\"#506784\",\"showbackground\":true,\"ticks\":\"\",\"zerolinecolor\":\"#C8D4E3\",\"gridwidth\":2},\"yaxis\":{\"backgroundcolor\":\"rgb(17,17,17)\",\"gridcolor\":\"#506784\",\"linecolor\":\"#506784\",\"showbackground\":true,\"ticks\":\"\",\"zerolinecolor\":\"#C8D4E3\",\"gridwidth\":2},\"zaxis\":{\"backgroundcolor\":\"rgb(17,17,17)\",\"gridcolor\":\"#506784\",\"linecolor\":\"#506784\",\"showbackground\":true,\"ticks\":\"\",\"zerolinecolor\":\"#C8D4E3\",\"gridwidth\":2}},\"shapedefaults\":{\"line\":{\"color\":\"#f2f5fa\"}},\"annotationdefaults\":{\"arrowcolor\":\"#f2f5fa\",\"arrowhead\":0,\"arrowwidth\":1},\"geo\":{\"bgcolor\":\"rgb(17,17,17)\",\"landcolor\":\"rgb(17,17,17)\",\"subunitcolor\":\"#506784\",\"showland\":true,\"showlakes\":true,\"lakecolor\":\"rgb(17,17,17)\"},\"title\":{\"x\":0.05},\"updatemenudefaults\":{\"bgcolor\":\"#506784\",\"borderwidth\":0},\"sliderdefaults\":{\"bgcolor\":\"#C8D4E3\",\"borderwidth\":1,\"bordercolor\":\"rgb(17,17,17)\",\"tickwidth\":0},\"mapbox\":{\"style\":\"dark\"}}},\"xaxis\":{\"anchor\":\"y\",\"domain\":[0.0,1.0],\"title\":{\"text\":\"Confirmed\"}},\"yaxis\":{\"anchor\":\"x\",\"domain\":[0.0,1.0],\"title\":{\"text\":\"Country\\u002fRegion\"}},\"coloraxis\":{\"colorbar\":{\"title\":{\"text\":\"Confirmed\"}},\"colorscale\":[[0.0,\"rgb(255,245,240)\"],[0.125,\"rgb(254,224,210)\"],[0.25,\"rgb(252,187,161)\"],[0.375,\"rgb(252,146,114)\"],[0.5,\"rgb(251,106,74)\"],[0.625,\"rgb(239,59,44)\"],[0.75,\"rgb(203,24,29)\"],[0.875,\"rgb(165,15,21)\"],[1.0,\"rgb(103,0,13)\"]]},\"legend\":{\"tracegroupgap\":0},\"title\":{\"text\":\"Confirmed Cases Worldwide\"},\"barmode\":\"relative\",\"height\":900},                        {\"responsive\": true}                    ).then(function(){\n",
       "                            \n",
       "var gd = document.getElementById('ad6e3718-59ce-4bbd-861a-6853ebcbafdb');\n",
       "var x = new MutationObserver(function (mutations, observer) {{\n",
       "        var display = window.getComputedStyle(gd).display;\n",
       "        if (!display || display === 'none') {{\n",
       "            console.log([gd, 'removed!']);\n",
       "            Plotly.purge(gd);\n",
       "            observer.disconnect();\n",
       "        }}\n",
       "}});\n",
       "\n",
       "// Listen for the removal of the full notebook cells\n",
       "var notebookContainer = gd.closest('#notebook-container');\n",
       "if (notebookContainer) {{\n",
       "    x.observe(notebookContainer, {childList: true});\n",
       "}}\n",
       "\n",
       "// Listen for the clearing of the current output cell\n",
       "var outputEl = gd.closest('.output');\n",
       "if (outputEl) {{\n",
       "    x.observe(outputEl, {childList: true});\n",
       "}}\n",
       "\n",
       "                        })                };                });            </script>        </div>"
      ]
     },
     "metadata": {},
     "output_type": "display_data"
    }
   ],
   "source": [
    "confirmed_cases = pd.DataFrame(merged_covcountry.groupby('Country/Region')['Confirmed'].sum())\n",
    "\n",
    " \n",
    "confirmed_cases['Country/Region'] = confirmed_cases.index\n",
    "df_confirmedcases = confirmed_cases[['Country/Region','Confirmed']]\n",
    "color_scale = px.colors.sequential.Reds\n",
    "\n",
    "\n",
    "fig = px.bar(df_confirmedcases.sort_values('Confirmed',ascending=False)[:20][::-1], #sorting by confirmed column and taking 20 but desc\n",
    "             x='Confirmed',\n",
    "             y='Country/Region',\n",
    "             title='Confirmed Cases Worldwide',\n",
    "             color_continuous_scale=color_scale,\n",
    "             color = 'Confirmed',\n",
    "             text='Confirmed',              height=900, \n",
    "             orientation='h')\n",
    "fig.show()\n"
   ]
  },
  {
   "cell_type": "markdown",
   "id": "b31209c4",
   "metadata": {
    "papermill": {
     "duration": 0.021268,
     "end_time": "2024-08-03T08:39:17.399635",
     "exception": false,
     "start_time": "2024-08-03T08:39:17.378367",
     "status": "completed"
    },
    "tags": []
   },
   "source": [
    "**Visualizations of other target features over the time globally**"
   ]
  },
  {
   "cell_type": "code",
   "execution_count": 28,
   "id": "08e73054",
   "metadata": {
    "execution": {
     "iopub.execute_input": "2024-08-03T08:39:17.445085Z",
     "iopub.status.busy": "2024-08-03T08:39:17.444645Z",
     "iopub.status.idle": "2024-08-03T08:39:17.465192Z",
     "shell.execute_reply": "2024-08-03T08:39:17.464111Z"
    },
    "papermill": {
     "duration": 0.046317,
     "end_time": "2024-08-03T08:39:17.467848",
     "exception": false,
     "start_time": "2024-08-03T08:39:17.421531",
     "status": "completed"
    },
    "tags": []
   },
   "outputs": [
    {
     "data": {
      "text/html": [
       "<div>\n",
       "<style scoped>\n",
       "    .dataframe tbody tr th:only-of-type {\n",
       "        vertical-align: middle;\n",
       "    }\n",
       "\n",
       "    .dataframe tbody tr th {\n",
       "        vertical-align: top;\n",
       "    }\n",
       "\n",
       "    .dataframe thead th {\n",
       "        text-align: right;\n",
       "    }\n",
       "</style>\n",
       "<table border=\"1\" class=\"dataframe\">\n",
       "  <thead>\n",
       "    <tr style=\"text-align: right;\">\n",
       "      <th></th>\n",
       "      <th>Date</th>\n",
       "      <th>Confirmed</th>\n",
       "      <th>Deaths</th>\n",
       "      <th>Recovered</th>\n",
       "      <th>Active</th>\n",
       "    </tr>\n",
       "  </thead>\n",
       "  <tbody>\n",
       "    <tr>\n",
       "      <th>0</th>\n",
       "      <td>2020-01-22</td>\n",
       "      <td>555</td>\n",
       "      <td>17</td>\n",
       "      <td>28</td>\n",
       "      <td>510</td>\n",
       "    </tr>\n",
       "    <tr>\n",
       "      <th>1</th>\n",
       "      <td>2020-01-23</td>\n",
       "      <td>654</td>\n",
       "      <td>18</td>\n",
       "      <td>30</td>\n",
       "      <td>606</td>\n",
       "    </tr>\n",
       "    <tr>\n",
       "      <th>2</th>\n",
       "      <td>2020-01-24</td>\n",
       "      <td>941</td>\n",
       "      <td>26</td>\n",
       "      <td>36</td>\n",
       "      <td>879</td>\n",
       "    </tr>\n",
       "    <tr>\n",
       "      <th>3</th>\n",
       "      <td>2020-01-25</td>\n",
       "      <td>1434</td>\n",
       "      <td>42</td>\n",
       "      <td>39</td>\n",
       "      <td>1353</td>\n",
       "    </tr>\n",
       "    <tr>\n",
       "      <th>4</th>\n",
       "      <td>2020-01-26</td>\n",
       "      <td>2118</td>\n",
       "      <td>56</td>\n",
       "      <td>52</td>\n",
       "      <td>2010</td>\n",
       "    </tr>\n",
       "  </tbody>\n",
       "</table>\n",
       "</div>"
      ],
      "text/plain": [
       "         Date  Confirmed  Deaths  Recovered  Active\n",
       "0  2020-01-22        555      17         28     510\n",
       "1  2020-01-23        654      18         30     606\n",
       "2  2020-01-24        941      26         36     879\n",
       "3  2020-01-25       1434      42         39    1353\n",
       "4  2020-01-26       2118      56         52    2010"
      ]
     },
     "execution_count": 28,
     "metadata": {},
     "output_type": "execute_result"
    }
   ],
   "source": [
    "case_index = df_fgroup.groupby('Date')[['Confirmed','Deaths','Recovered','Active']].sum().reset_index()\n",
    "case_index.head()"
   ]
  },
  {
   "cell_type": "code",
   "execution_count": 29,
   "id": "53559b0e",
   "metadata": {
    "execution": {
     "iopub.execute_input": "2024-08-03T08:39:17.515008Z",
     "iopub.status.busy": "2024-08-03T08:39:17.514574Z",
     "iopub.status.idle": "2024-08-03T08:39:17.619394Z",
     "shell.execute_reply": "2024-08-03T08:39:17.618073Z"
    },
    "papermill": {
     "duration": 0.131865,
     "end_time": "2024-08-03T08:39:17.622101",
     "exception": false,
     "start_time": "2024-08-03T08:39:17.490236",
     "status": "completed"
    },
    "tags": []
   },
   "outputs": [
    {
     "data": {
      "text/html": [
       "<div>                            <div id=\"2998d820-106e-477a-8f9d-977eecb2e260\" class=\"plotly-graph-div\" style=\"height:525px; width:100%;\"></div>            <script type=\"text/javascript\">                require([\"plotly\"], function(Plotly) {                    window.PLOTLYENV=window.PLOTLYENV || {};                                    if (document.getElementById(\"2998d820-106e-477a-8f9d-977eecb2e260\")) {                    Plotly.newPlot(                        \"2998d820-106e-477a-8f9d-977eecb2e260\",                        [{\"line\":{\"color\":\"#590d22\"},\"mode\":\"lines+markers\",\"name\":\"Confirmed\",\"opacity\":0.8,\"x\":[\"2020-01-22\",\"2020-01-23\",\"2020-01-24\",\"2020-01-25\",\"2020-01-26\",\"2020-01-27\",\"2020-01-28\",\"2020-01-29\",\"2020-01-30\",\"2020-01-31\",\"2020-02-01\",\"2020-02-02\",\"2020-02-03\",\"2020-02-04\",\"2020-02-05\",\"2020-02-06\",\"2020-02-07\",\"2020-02-08\",\"2020-02-09\",\"2020-02-10\",\"2020-02-11\",\"2020-02-12\",\"2020-02-13\",\"2020-02-14\",\"2020-02-15\",\"2020-02-16\",\"2020-02-17\",\"2020-02-18\",\"2020-02-19\",\"2020-02-20\",\"2020-02-21\",\"2020-02-22\",\"2020-02-23\",\"2020-02-24\",\"2020-02-25\",\"2020-02-26\",\"2020-02-27\",\"2020-02-28\",\"2020-02-29\",\"2020-03-01\",\"2020-03-02\",\"2020-03-03\",\"2020-03-04\",\"2020-03-05\",\"2020-03-06\",\"2020-03-07\",\"2020-03-08\",\"2020-03-09\",\"2020-03-10\",\"2020-03-11\",\"2020-03-12\",\"2020-03-13\",\"2020-03-14\",\"2020-03-15\",\"2020-03-16\",\"2020-03-17\",\"2020-03-18\",\"2020-03-19\",\"2020-03-20\",\"2020-03-21\",\"2020-03-22\",\"2020-03-23\",\"2020-03-24\",\"2020-03-25\",\"2020-03-26\",\"2020-03-27\",\"2020-03-28\",\"2020-03-29\",\"2020-03-30\",\"2020-03-31\",\"2020-04-01\",\"2020-04-02\",\"2020-04-03\",\"2020-04-04\",\"2020-04-05\",\"2020-04-06\",\"2020-04-07\",\"2020-04-08\",\"2020-04-09\",\"2020-04-10\",\"2020-04-11\",\"2020-04-12\",\"2020-04-13\",\"2020-04-14\",\"2020-04-15\",\"2020-04-16\",\"2020-04-17\",\"2020-04-18\",\"2020-04-19\",\"2020-04-20\",\"2020-04-21\",\"2020-04-22\",\"2020-04-23\",\"2020-04-24\",\"2020-04-25\",\"2020-04-26\",\"2020-04-27\",\"2020-04-28\",\"2020-04-29\",\"2020-04-30\",\"2020-05-01\",\"2020-05-02\",\"2020-05-03\",\"2020-05-04\",\"2020-05-05\",\"2020-05-06\",\"2020-05-07\",\"2020-05-08\",\"2020-05-09\",\"2020-05-10\",\"2020-05-11\",\"2020-05-12\",\"2020-05-13\",\"2020-05-14\",\"2020-05-15\",\"2020-05-16\",\"2020-05-17\",\"2020-05-18\",\"2020-05-19\",\"2020-05-20\",\"2020-05-21\",\"2020-05-22\",\"2020-05-23\",\"2020-05-24\",\"2020-05-25\",\"2020-05-26\",\"2020-05-27\",\"2020-05-28\",\"2020-05-29\",\"2020-05-30\",\"2020-05-31\",\"2020-06-01\",\"2020-06-02\",\"2020-06-03\",\"2020-06-04\",\"2020-06-05\",\"2020-06-06\",\"2020-06-07\",\"2020-06-08\",\"2020-06-09\",\"2020-06-10\",\"2020-06-11\",\"2020-06-12\",\"2020-06-13\",\"2020-06-14\",\"2020-06-15\",\"2020-06-16\",\"2020-06-17\",\"2020-06-18\",\"2020-06-19\",\"2020-06-20\",\"2020-06-21\",\"2020-06-22\",\"2020-06-23\",\"2020-06-24\",\"2020-06-25\",\"2020-06-26\",\"2020-06-27\",\"2020-06-28\",\"2020-06-29\",\"2020-06-30\",\"2020-07-01\",\"2020-07-02\",\"2020-07-03\",\"2020-07-04\",\"2020-07-05\",\"2020-07-06\",\"2020-07-07\",\"2020-07-08\",\"2020-07-09\",\"2020-07-10\",\"2020-07-11\",\"2020-07-12\",\"2020-07-13\",\"2020-07-14\",\"2020-07-15\",\"2020-07-16\",\"2020-07-17\",\"2020-07-18\",\"2020-07-19\",\"2020-07-20\",\"2020-07-21\",\"2020-07-22\",\"2020-07-23\",\"2020-07-24\",\"2020-07-25\",\"2020-07-26\",\"2020-07-27\"],\"y\":[555,654,941,1434,2118,2927,5578,6166,8234,9927,12038,16787,19887,23898,27643,30802,34334,37068,40095,42633,44675,46561,60206,66690,68765,70879,72815,74609,75030,75577,76206,77967,78290,78854,79707,80670,82034,83411,85306,87690,89664,92241,94540,97331,101274,105312,109266,113166,118190,125853,131603,146008,157114,168260,182919,198757,218343,246261,275869,308175,341585,383750,424889,475706,538666,603066,670723,730300,794939,871355,947569,1028968,1112123,1192586,1264304,1336976,1413849,1497624,1584249,1671907,1748872,1845653,1915247,1985174,2066003,2162715,2250439,2324396,2404919,2478258,2553508,2630314,2719327,2806267,2891199,2964146,3032850,3108149,3185195,3268876,3355922,3437608,3515244,3591321,3671310,3761332,3850418,3941935,4027781,4104027,4180268,4263867,4348619,4445724,4542073,4637485,4715994,4804278,4900702,5003730,5110064,5216964,5322253,5417579,5504542,5597064,5699664,5818978,5940145,6077978,6185530,6280725,6401536,6520924,6647861,6778724,6914666,7026925,7129150,7253492,7387517,7525631,7654725,7790735,7924156,8043794,8185197,8327050,8466978,8647784,8805336,8933875,9071733,9237071,9408254,9586141,9777487,9955597,10117227,10275799,10449697,10667386,10875091,11078585,11272152,11454847,11622190,11833034,12044836,12273063,12505640,12721968,12914636,13107415,13328867,13559984,13812525,14054563,14292198,14506845,14713623,14947078,15227725,15510481,15791645,16047190,16251796,16480485],\"type\":\"scatter\",\"xaxis\":\"x\",\"yaxis\":\"y\"},{\"line\":{\"color\":\"#c9184a\"},\"mode\":\"lines+markers\",\"name\":\"Deaths\",\"opacity\":0.8,\"x\":[\"2020-01-22\",\"2020-01-23\",\"2020-01-24\",\"2020-01-25\",\"2020-01-26\",\"2020-01-27\",\"2020-01-28\",\"2020-01-29\",\"2020-01-30\",\"2020-01-31\",\"2020-02-01\",\"2020-02-02\",\"2020-02-03\",\"2020-02-04\",\"2020-02-05\",\"2020-02-06\",\"2020-02-07\",\"2020-02-08\",\"2020-02-09\",\"2020-02-10\",\"2020-02-11\",\"2020-02-12\",\"2020-02-13\",\"2020-02-14\",\"2020-02-15\",\"2020-02-16\",\"2020-02-17\",\"2020-02-18\",\"2020-02-19\",\"2020-02-20\",\"2020-02-21\",\"2020-02-22\",\"2020-02-23\",\"2020-02-24\",\"2020-02-25\",\"2020-02-26\",\"2020-02-27\",\"2020-02-28\",\"2020-02-29\",\"2020-03-01\",\"2020-03-02\",\"2020-03-03\",\"2020-03-04\",\"2020-03-05\",\"2020-03-06\",\"2020-03-07\",\"2020-03-08\",\"2020-03-09\",\"2020-03-10\",\"2020-03-11\",\"2020-03-12\",\"2020-03-13\",\"2020-03-14\",\"2020-03-15\",\"2020-03-16\",\"2020-03-17\",\"2020-03-18\",\"2020-03-19\",\"2020-03-20\",\"2020-03-21\",\"2020-03-22\",\"2020-03-23\",\"2020-03-24\",\"2020-03-25\",\"2020-03-26\",\"2020-03-27\",\"2020-03-28\",\"2020-03-29\",\"2020-03-30\",\"2020-03-31\",\"2020-04-01\",\"2020-04-02\",\"2020-04-03\",\"2020-04-04\",\"2020-04-05\",\"2020-04-06\",\"2020-04-07\",\"2020-04-08\",\"2020-04-09\",\"2020-04-10\",\"2020-04-11\",\"2020-04-12\",\"2020-04-13\",\"2020-04-14\",\"2020-04-15\",\"2020-04-16\",\"2020-04-17\",\"2020-04-18\",\"2020-04-19\",\"2020-04-20\",\"2020-04-21\",\"2020-04-22\",\"2020-04-23\",\"2020-04-24\",\"2020-04-25\",\"2020-04-26\",\"2020-04-27\",\"2020-04-28\",\"2020-04-29\",\"2020-04-30\",\"2020-05-01\",\"2020-05-02\",\"2020-05-03\",\"2020-05-04\",\"2020-05-05\",\"2020-05-06\",\"2020-05-07\",\"2020-05-08\",\"2020-05-09\",\"2020-05-10\",\"2020-05-11\",\"2020-05-12\",\"2020-05-13\",\"2020-05-14\",\"2020-05-15\",\"2020-05-16\",\"2020-05-17\",\"2020-05-18\",\"2020-05-19\",\"2020-05-20\",\"2020-05-21\",\"2020-05-22\",\"2020-05-23\",\"2020-05-24\",\"2020-05-25\",\"2020-05-26\",\"2020-05-27\",\"2020-05-28\",\"2020-05-29\",\"2020-05-30\",\"2020-05-31\",\"2020-06-01\",\"2020-06-02\",\"2020-06-03\",\"2020-06-04\",\"2020-06-05\",\"2020-06-06\",\"2020-06-07\",\"2020-06-08\",\"2020-06-09\",\"2020-06-10\",\"2020-06-11\",\"2020-06-12\",\"2020-06-13\",\"2020-06-14\",\"2020-06-15\",\"2020-06-16\",\"2020-06-17\",\"2020-06-18\",\"2020-06-19\",\"2020-06-20\",\"2020-06-21\",\"2020-06-22\",\"2020-06-23\",\"2020-06-24\",\"2020-06-25\",\"2020-06-26\",\"2020-06-27\",\"2020-06-28\",\"2020-06-29\",\"2020-06-30\",\"2020-07-01\",\"2020-07-02\",\"2020-07-03\",\"2020-07-04\",\"2020-07-05\",\"2020-07-06\",\"2020-07-07\",\"2020-07-08\",\"2020-07-09\",\"2020-07-10\",\"2020-07-11\",\"2020-07-12\",\"2020-07-13\",\"2020-07-14\",\"2020-07-15\",\"2020-07-16\",\"2020-07-17\",\"2020-07-18\",\"2020-07-19\",\"2020-07-20\",\"2020-07-21\",\"2020-07-22\",\"2020-07-23\",\"2020-07-24\",\"2020-07-25\",\"2020-07-26\",\"2020-07-27\"],\"y\":[17,18,26,42,56,82,131,133,171,213,259,362,426,492,564,634,719,806,906,1013,1113,1118,1371,1523,1666,1770,1868,2008,2123,2246,2250,2457,2467,2627,2707,2767,2810,2867,2936,2990,3079,3154,3249,3342,3454,3553,3797,3981,4260,4604,4909,5406,5823,6464,7144,7948,8845,9951,11429,13134,14831,16748,19016,21793,24800,28318,31997,35470,39634,44478,50029,56334,62319,68160,73181,79013,86915,93650,101279,108551,114620,120351,126098,132996,141308,148591,157481,163952,168522,173965,181122,187877,194727,201401,206979,210862,215511,221974,228742,234704,239881,245206,248659,252787,258658,265327,270736,276304,280569,284135,287608,293155,298383,303651,308866,313037,316366,319657,324441,329326,334112,339396,343385,346525,347703,351906,357119,361820,366562,370718,373606,376674,381497,387069,392218,396994,400875,403617,407314,412236,417441,422215,426512,430750,434124,437549,444416,449671,454700,460973,465222,469185,472756,478067,483328,489955,494782,499268,502357,506078,511210,516221,521341,526336,530705,534150,537947,544054,549373,554831,560142,565039,568993,572808,578468,583961,589760,596503,602130,606159,610319,616557,623540,633506,639650,644517,648621,654036],\"type\":\"scatter\",\"xaxis\":\"x2\",\"yaxis\":\"y2\"},{\"line\":{\"color\":\"#ff758f\"},\"mode\":\"lines+markers\",\"name\":\"Recovered\",\"opacity\":0.8,\"x\":[\"2020-01-22\",\"2020-01-23\",\"2020-01-24\",\"2020-01-25\",\"2020-01-26\",\"2020-01-27\",\"2020-01-28\",\"2020-01-29\",\"2020-01-30\",\"2020-01-31\",\"2020-02-01\",\"2020-02-02\",\"2020-02-03\",\"2020-02-04\",\"2020-02-05\",\"2020-02-06\",\"2020-02-07\",\"2020-02-08\",\"2020-02-09\",\"2020-02-10\",\"2020-02-11\",\"2020-02-12\",\"2020-02-13\",\"2020-02-14\",\"2020-02-15\",\"2020-02-16\",\"2020-02-17\",\"2020-02-18\",\"2020-02-19\",\"2020-02-20\",\"2020-02-21\",\"2020-02-22\",\"2020-02-23\",\"2020-02-24\",\"2020-02-25\",\"2020-02-26\",\"2020-02-27\",\"2020-02-28\",\"2020-02-29\",\"2020-03-01\",\"2020-03-02\",\"2020-03-03\",\"2020-03-04\",\"2020-03-05\",\"2020-03-06\",\"2020-03-07\",\"2020-03-08\",\"2020-03-09\",\"2020-03-10\",\"2020-03-11\",\"2020-03-12\",\"2020-03-13\",\"2020-03-14\",\"2020-03-15\",\"2020-03-16\",\"2020-03-17\",\"2020-03-18\",\"2020-03-19\",\"2020-03-20\",\"2020-03-21\",\"2020-03-22\",\"2020-03-23\",\"2020-03-24\",\"2020-03-25\",\"2020-03-26\",\"2020-03-27\",\"2020-03-28\",\"2020-03-29\",\"2020-03-30\",\"2020-03-31\",\"2020-04-01\",\"2020-04-02\",\"2020-04-03\",\"2020-04-04\",\"2020-04-05\",\"2020-04-06\",\"2020-04-07\",\"2020-04-08\",\"2020-04-09\",\"2020-04-10\",\"2020-04-11\",\"2020-04-12\",\"2020-04-13\",\"2020-04-14\",\"2020-04-15\",\"2020-04-16\",\"2020-04-17\",\"2020-04-18\",\"2020-04-19\",\"2020-04-20\",\"2020-04-21\",\"2020-04-22\",\"2020-04-23\",\"2020-04-24\",\"2020-04-25\",\"2020-04-26\",\"2020-04-27\",\"2020-04-28\",\"2020-04-29\",\"2020-04-30\",\"2020-05-01\",\"2020-05-02\",\"2020-05-03\",\"2020-05-04\",\"2020-05-05\",\"2020-05-06\",\"2020-05-07\",\"2020-05-08\",\"2020-05-09\",\"2020-05-10\",\"2020-05-11\",\"2020-05-12\",\"2020-05-13\",\"2020-05-14\",\"2020-05-15\",\"2020-05-16\",\"2020-05-17\",\"2020-05-18\",\"2020-05-19\",\"2020-05-20\",\"2020-05-21\",\"2020-05-22\",\"2020-05-23\",\"2020-05-24\",\"2020-05-25\",\"2020-05-26\",\"2020-05-27\",\"2020-05-28\",\"2020-05-29\",\"2020-05-30\",\"2020-05-31\",\"2020-06-01\",\"2020-06-02\",\"2020-06-03\",\"2020-06-04\",\"2020-06-05\",\"2020-06-06\",\"2020-06-07\",\"2020-06-08\",\"2020-06-09\",\"2020-06-10\",\"2020-06-11\",\"2020-06-12\",\"2020-06-13\",\"2020-06-14\",\"2020-06-15\",\"2020-06-16\",\"2020-06-17\",\"2020-06-18\",\"2020-06-19\",\"2020-06-20\",\"2020-06-21\",\"2020-06-22\",\"2020-06-23\",\"2020-06-24\",\"2020-06-25\",\"2020-06-26\",\"2020-06-27\",\"2020-06-28\",\"2020-06-29\",\"2020-06-30\",\"2020-07-01\",\"2020-07-02\",\"2020-07-03\",\"2020-07-04\",\"2020-07-05\",\"2020-07-06\",\"2020-07-07\",\"2020-07-08\",\"2020-07-09\",\"2020-07-10\",\"2020-07-11\",\"2020-07-12\",\"2020-07-13\",\"2020-07-14\",\"2020-07-15\",\"2020-07-16\",\"2020-07-17\",\"2020-07-18\",\"2020-07-19\",\"2020-07-20\",\"2020-07-21\",\"2020-07-22\",\"2020-07-23\",\"2020-07-24\",\"2020-07-25\",\"2020-07-26\",\"2020-07-27\"],\"y\":[28,30,36,39,52,61,107,125,141,219,281,459,604,821,1071,1418,1903,2470,3057,3714,4417,4849,5930,7613,8902,10319,11951,13693,15394,17369,17966,21849,22304,24047,26652,29077,31919,35306,38314,41208,44085,46681,49619,52237,54270,56760,59092,60891,62802,65113,66434,68359,70729,74139,76192,78944,81427,83064,85509,89775,95990,96456,105997,111445,119804,128508,136800,146261,161707,174074,189434,206052,221060,241072,254477,270812,293665,322017,346349,367477,392991,411864,438395,463014,498925,529015,554287,577789,608557,629862,664043,693207,721689,771329,798239,825969,852382,884680,925752,989616,1026501,1066362,1097577,1130526,1166155,1210894,1249311,1284849,1337367,1370108,1416204,1452191,1506905,1545712,1592880,1648546,1688699,1740909,1792256,1850441,1900768,2008541,2062802,2117555,2180605,2235118,2297613,2363746,2440127,2509981,2585589,2639599,2743083,2821430,2890776,2959037,3030214,3084718,3235640,3317121,3395154,3480121,3558933,3644048,3714006,3793406,3890800,4008201,4088826,4183298,4298603,4366875,4458093,4561696,4677005,4769458,4875774,4981808,5070592,5164494,5281459,5397083,5681477,5790942,5986375,6105546,6228768,6373513,6531016,6665237,6804254,6929711,7041174,7181139,7322897,7482320,7634241,7793760,7944550,8032235,8190777,8364986,8541255,8710969,8939705,9158743,9293464,9468087],\"type\":\"scatter\",\"xaxis\":\"x3\",\"yaxis\":\"y3\"},{\"line\":{\"color\":\"#fff0f3\"},\"mode\":\"lines+markers\",\"name\":\"Active\",\"opacity\":0.8,\"x\":[\"2020-01-22\",\"2020-01-23\",\"2020-01-24\",\"2020-01-25\",\"2020-01-26\",\"2020-01-27\",\"2020-01-28\",\"2020-01-29\",\"2020-01-30\",\"2020-01-31\",\"2020-02-01\",\"2020-02-02\",\"2020-02-03\",\"2020-02-04\",\"2020-02-05\",\"2020-02-06\",\"2020-02-07\",\"2020-02-08\",\"2020-02-09\",\"2020-02-10\",\"2020-02-11\",\"2020-02-12\",\"2020-02-13\",\"2020-02-14\",\"2020-02-15\",\"2020-02-16\",\"2020-02-17\",\"2020-02-18\",\"2020-02-19\",\"2020-02-20\",\"2020-02-21\",\"2020-02-22\",\"2020-02-23\",\"2020-02-24\",\"2020-02-25\",\"2020-02-26\",\"2020-02-27\",\"2020-02-28\",\"2020-02-29\",\"2020-03-01\",\"2020-03-02\",\"2020-03-03\",\"2020-03-04\",\"2020-03-05\",\"2020-03-06\",\"2020-03-07\",\"2020-03-08\",\"2020-03-09\",\"2020-03-10\",\"2020-03-11\",\"2020-03-12\",\"2020-03-13\",\"2020-03-14\",\"2020-03-15\",\"2020-03-16\",\"2020-03-17\",\"2020-03-18\",\"2020-03-19\",\"2020-03-20\",\"2020-03-21\",\"2020-03-22\",\"2020-03-23\",\"2020-03-24\",\"2020-03-25\",\"2020-03-26\",\"2020-03-27\",\"2020-03-28\",\"2020-03-29\",\"2020-03-30\",\"2020-03-31\",\"2020-04-01\",\"2020-04-02\",\"2020-04-03\",\"2020-04-04\",\"2020-04-05\",\"2020-04-06\",\"2020-04-07\",\"2020-04-08\",\"2020-04-09\",\"2020-04-10\",\"2020-04-11\",\"2020-04-12\",\"2020-04-13\",\"2020-04-14\",\"2020-04-15\",\"2020-04-16\",\"2020-04-17\",\"2020-04-18\",\"2020-04-19\",\"2020-04-20\",\"2020-04-21\",\"2020-04-22\",\"2020-04-23\",\"2020-04-24\",\"2020-04-25\",\"2020-04-26\",\"2020-04-27\",\"2020-04-28\",\"2020-04-29\",\"2020-04-30\",\"2020-05-01\",\"2020-05-02\",\"2020-05-03\",\"2020-05-04\",\"2020-05-05\",\"2020-05-06\",\"2020-05-07\",\"2020-05-08\",\"2020-05-09\",\"2020-05-10\",\"2020-05-11\",\"2020-05-12\",\"2020-05-13\",\"2020-05-14\",\"2020-05-15\",\"2020-05-16\",\"2020-05-17\",\"2020-05-18\",\"2020-05-19\",\"2020-05-20\",\"2020-05-21\",\"2020-05-22\",\"2020-05-23\",\"2020-05-24\",\"2020-05-25\",\"2020-05-26\",\"2020-05-27\",\"2020-05-28\",\"2020-05-29\",\"2020-05-30\",\"2020-05-31\",\"2020-06-01\",\"2020-06-02\",\"2020-06-03\",\"2020-06-04\",\"2020-06-05\",\"2020-06-06\",\"2020-06-07\",\"2020-06-08\",\"2020-06-09\",\"2020-06-10\",\"2020-06-11\",\"2020-06-12\",\"2020-06-13\",\"2020-06-14\",\"2020-06-15\",\"2020-06-16\",\"2020-06-17\",\"2020-06-18\",\"2020-06-19\",\"2020-06-20\",\"2020-06-21\",\"2020-06-22\",\"2020-06-23\",\"2020-06-24\",\"2020-06-25\",\"2020-06-26\",\"2020-06-27\",\"2020-06-28\",\"2020-06-29\",\"2020-06-30\",\"2020-07-01\",\"2020-07-02\",\"2020-07-03\",\"2020-07-04\",\"2020-07-05\",\"2020-07-06\",\"2020-07-07\",\"2020-07-08\",\"2020-07-09\",\"2020-07-10\",\"2020-07-11\",\"2020-07-12\",\"2020-07-13\",\"2020-07-14\",\"2020-07-15\",\"2020-07-16\",\"2020-07-17\",\"2020-07-18\",\"2020-07-19\",\"2020-07-20\",\"2020-07-21\",\"2020-07-22\",\"2020-07-23\",\"2020-07-24\",\"2020-07-25\",\"2020-07-26\",\"2020-07-27\"],\"y\":[510,606,879,1353,2010,2784,5340,5908,7922,9495,11498,15966,18857,22585,26008,28750,31712,33792,36132,37906,39145,40594,52905,57554,58197,58790,58996,58908,57513,55962,55990,53661,53519,52180,50348,48826,47305,45238,44056,43492,42500,42406,41672,41752,43550,44999,46377,48294,51128,56136,60260,72243,80562,87657,99583,111865,128071,153246,178931,205266,230764,270546,299876,342468,394062,446240,501926,548569,593598,652803,708106,766582,828744,883354,936646,987151,1033269,1081957,1136621,1195879,1241261,1313438,1350754,1389164,1425770,1485109,1538671,1582655,1627840,1674431,1708343,1749230,1802911,1833537,1885981,1927315,1964957,2001495,2030701,2044556,2089540,2126040,2169008,2208008,2246497,2285111,2330371,2380782,2409845,2449784,2476456,2518521,2543331,2596361,2640327,2675902,2710929,2743712,2784005,2823963,2875184,2869027,2916066,2953499,2976234,3010040,3044932,3093412,3133456,3197279,3226335,3264452,3276956,3312425,3364867,3422693,3483577,3538590,3486196,3524135,3574922,3623295,3669280,3715937,3776026,3812839,3849981,3869178,3923452,4003513,4041511,4097815,4140884,4197308,4247921,4326728,4406931,4474521,4544278,4605227,4657028,4754082,4672273,4761307,4755072,4815151,4855475,4915467,4964447,5052995,5141244,5227218,5304469,5353468,5427502,5493703,5588524,5664300,5745518,5868451,5912527,5965535,6062930,6166006,6212290,6243930,6309711,6358362],\"type\":\"scatter\",\"xaxis\":\"x4\",\"yaxis\":\"y4\"}],                        {\"template\":{\"data\":{\"histogram2dcontour\":[{\"type\":\"histogram2dcontour\",\"colorbar\":{\"outlinewidth\":0,\"ticks\":\"\"},\"colorscale\":[[0.0,\"#0d0887\"],[0.1111111111111111,\"#46039f\"],[0.2222222222222222,\"#7201a8\"],[0.3333333333333333,\"#9c179e\"],[0.4444444444444444,\"#bd3786\"],[0.5555555555555556,\"#d8576b\"],[0.6666666666666666,\"#ed7953\"],[0.7777777777777778,\"#fb9f3a\"],[0.8888888888888888,\"#fdca26\"],[1.0,\"#f0f921\"]]}],\"choropleth\":[{\"type\":\"choropleth\",\"colorbar\":{\"outlinewidth\":0,\"ticks\":\"\"}}],\"histogram2d\":[{\"type\":\"histogram2d\",\"colorbar\":{\"outlinewidth\":0,\"ticks\":\"\"},\"colorscale\":[[0.0,\"#0d0887\"],[0.1111111111111111,\"#46039f\"],[0.2222222222222222,\"#7201a8\"],[0.3333333333333333,\"#9c179e\"],[0.4444444444444444,\"#bd3786\"],[0.5555555555555556,\"#d8576b\"],[0.6666666666666666,\"#ed7953\"],[0.7777777777777778,\"#fb9f3a\"],[0.8888888888888888,\"#fdca26\"],[1.0,\"#f0f921\"]]}],\"heatmap\":[{\"type\":\"heatmap\",\"colorbar\":{\"outlinewidth\":0,\"ticks\":\"\"},\"colorscale\":[[0.0,\"#0d0887\"],[0.1111111111111111,\"#46039f\"],[0.2222222222222222,\"#7201a8\"],[0.3333333333333333,\"#9c179e\"],[0.4444444444444444,\"#bd3786\"],[0.5555555555555556,\"#d8576b\"],[0.6666666666666666,\"#ed7953\"],[0.7777777777777778,\"#fb9f3a\"],[0.8888888888888888,\"#fdca26\"],[1.0,\"#f0f921\"]]}],\"heatmapgl\":[{\"type\":\"heatmapgl\",\"colorbar\":{\"outlinewidth\":0,\"ticks\":\"\"},\"colorscale\":[[0.0,\"#0d0887\"],[0.1111111111111111,\"#46039f\"],[0.2222222222222222,\"#7201a8\"],[0.3333333333333333,\"#9c179e\"],[0.4444444444444444,\"#bd3786\"],[0.5555555555555556,\"#d8576b\"],[0.6666666666666666,\"#ed7953\"],[0.7777777777777778,\"#fb9f3a\"],[0.8888888888888888,\"#fdca26\"],[1.0,\"#f0f921\"]]}],\"contourcarpet\":[{\"type\":\"contourcarpet\",\"colorbar\":{\"outlinewidth\":0,\"ticks\":\"\"}}],\"contour\":[{\"type\":\"contour\",\"colorbar\":{\"outlinewidth\":0,\"ticks\":\"\"},\"colorscale\":[[0.0,\"#0d0887\"],[0.1111111111111111,\"#46039f\"],[0.2222222222222222,\"#7201a8\"],[0.3333333333333333,\"#9c179e\"],[0.4444444444444444,\"#bd3786\"],[0.5555555555555556,\"#d8576b\"],[0.6666666666666666,\"#ed7953\"],[0.7777777777777778,\"#fb9f3a\"],[0.8888888888888888,\"#fdca26\"],[1.0,\"#f0f921\"]]}],\"surface\":[{\"type\":\"surface\",\"colorbar\":{\"outlinewidth\":0,\"ticks\":\"\"},\"colorscale\":[[0.0,\"#0d0887\"],[0.1111111111111111,\"#46039f\"],[0.2222222222222222,\"#7201a8\"],[0.3333333333333333,\"#9c179e\"],[0.4444444444444444,\"#bd3786\"],[0.5555555555555556,\"#d8576b\"],[0.6666666666666666,\"#ed7953\"],[0.7777777777777778,\"#fb9f3a\"],[0.8888888888888888,\"#fdca26\"],[1.0,\"#f0f921\"]]}],\"mesh3d\":[{\"type\":\"mesh3d\",\"colorbar\":{\"outlinewidth\":0,\"ticks\":\"\"}}],\"scatter\":[{\"marker\":{\"line\":{\"color\":\"#283442\"}},\"type\":\"scatter\"}],\"parcoords\":[{\"type\":\"parcoords\",\"line\":{\"colorbar\":{\"outlinewidth\":0,\"ticks\":\"\"}}}],\"scatterpolargl\":[{\"type\":\"scatterpolargl\",\"marker\":{\"colorbar\":{\"outlinewidth\":0,\"ticks\":\"\"}}}],\"bar\":[{\"error_x\":{\"color\":\"#f2f5fa\"},\"error_y\":{\"color\":\"#f2f5fa\"},\"marker\":{\"line\":{\"color\":\"rgb(17,17,17)\",\"width\":0.5},\"pattern\":{\"fillmode\":\"overlay\",\"size\":10,\"solidity\":0.2}},\"type\":\"bar\"}],\"scattergeo\":[{\"type\":\"scattergeo\",\"marker\":{\"colorbar\":{\"outlinewidth\":0,\"ticks\":\"\"}}}],\"scatterpolar\":[{\"type\":\"scatterpolar\",\"marker\":{\"colorbar\":{\"outlinewidth\":0,\"ticks\":\"\"}}}],\"histogram\":[{\"marker\":{\"pattern\":{\"fillmode\":\"overlay\",\"size\":10,\"solidity\":0.2}},\"type\":\"histogram\"}],\"scattergl\":[{\"marker\":{\"line\":{\"color\":\"#283442\"}},\"type\":\"scattergl\"}],\"scatter3d\":[{\"type\":\"scatter3d\",\"line\":{\"colorbar\":{\"outlinewidth\":0,\"ticks\":\"\"}},\"marker\":{\"colorbar\":{\"outlinewidth\":0,\"ticks\":\"\"}}}],\"scattermapbox\":[{\"type\":\"scattermapbox\",\"marker\":{\"colorbar\":{\"outlinewidth\":0,\"ticks\":\"\"}}}],\"scatterternary\":[{\"type\":\"scatterternary\",\"marker\":{\"colorbar\":{\"outlinewidth\":0,\"ticks\":\"\"}}}],\"scattercarpet\":[{\"type\":\"scattercarpet\",\"marker\":{\"colorbar\":{\"outlinewidth\":0,\"ticks\":\"\"}}}],\"carpet\":[{\"aaxis\":{\"endlinecolor\":\"#A2B1C6\",\"gridcolor\":\"#506784\",\"linecolor\":\"#506784\",\"minorgridcolor\":\"#506784\",\"startlinecolor\":\"#A2B1C6\"},\"baxis\":{\"endlinecolor\":\"#A2B1C6\",\"gridcolor\":\"#506784\",\"linecolor\":\"#506784\",\"minorgridcolor\":\"#506784\",\"startlinecolor\":\"#A2B1C6\"},\"type\":\"carpet\"}],\"table\":[{\"cells\":{\"fill\":{\"color\":\"#506784\"},\"line\":{\"color\":\"rgb(17,17,17)\"}},\"header\":{\"fill\":{\"color\":\"#2a3f5f\"},\"line\":{\"color\":\"rgb(17,17,17)\"}},\"type\":\"table\"}],\"barpolar\":[{\"marker\":{\"line\":{\"color\":\"rgb(17,17,17)\",\"width\":0.5},\"pattern\":{\"fillmode\":\"overlay\",\"size\":10,\"solidity\":0.2}},\"type\":\"barpolar\"}],\"pie\":[{\"automargin\":true,\"type\":\"pie\"}]},\"layout\":{\"autotypenumbers\":\"strict\",\"colorway\":[\"#636efa\",\"#EF553B\",\"#00cc96\",\"#ab63fa\",\"#FFA15A\",\"#19d3f3\",\"#FF6692\",\"#B6E880\",\"#FF97FF\",\"#FECB52\"],\"font\":{\"color\":\"#f2f5fa\"},\"hovermode\":\"closest\",\"hoverlabel\":{\"align\":\"left\"},\"paper_bgcolor\":\"rgb(17,17,17)\",\"plot_bgcolor\":\"rgb(17,17,17)\",\"polar\":{\"bgcolor\":\"rgb(17,17,17)\",\"angularaxis\":{\"gridcolor\":\"#506784\",\"linecolor\":\"#506784\",\"ticks\":\"\"},\"radialaxis\":{\"gridcolor\":\"#506784\",\"linecolor\":\"#506784\",\"ticks\":\"\"}},\"ternary\":{\"bgcolor\":\"rgb(17,17,17)\",\"aaxis\":{\"gridcolor\":\"#506784\",\"linecolor\":\"#506784\",\"ticks\":\"\"},\"baxis\":{\"gridcolor\":\"#506784\",\"linecolor\":\"#506784\",\"ticks\":\"\"},\"caxis\":{\"gridcolor\":\"#506784\",\"linecolor\":\"#506784\",\"ticks\":\"\"}},\"coloraxis\":{\"colorbar\":{\"outlinewidth\":0,\"ticks\":\"\"}},\"colorscale\":{\"sequential\":[[0.0,\"#0d0887\"],[0.1111111111111111,\"#46039f\"],[0.2222222222222222,\"#7201a8\"],[0.3333333333333333,\"#9c179e\"],[0.4444444444444444,\"#bd3786\"],[0.5555555555555556,\"#d8576b\"],[0.6666666666666666,\"#ed7953\"],[0.7777777777777778,\"#fb9f3a\"],[0.8888888888888888,\"#fdca26\"],[1.0,\"#f0f921\"]],\"sequentialminus\":[[0.0,\"#0d0887\"],[0.1111111111111111,\"#46039f\"],[0.2222222222222222,\"#7201a8\"],[0.3333333333333333,\"#9c179e\"],[0.4444444444444444,\"#bd3786\"],[0.5555555555555556,\"#d8576b\"],[0.6666666666666666,\"#ed7953\"],[0.7777777777777778,\"#fb9f3a\"],[0.8888888888888888,\"#fdca26\"],[1.0,\"#f0f921\"]],\"diverging\":[[0,\"#8e0152\"],[0.1,\"#c51b7d\"],[0.2,\"#de77ae\"],[0.3,\"#f1b6da\"],[0.4,\"#fde0ef\"],[0.5,\"#f7f7f7\"],[0.6,\"#e6f5d0\"],[0.7,\"#b8e186\"],[0.8,\"#7fbc41\"],[0.9,\"#4d9221\"],[1,\"#276419\"]]},\"xaxis\":{\"gridcolor\":\"#283442\",\"linecolor\":\"#506784\",\"ticks\":\"\",\"title\":{\"standoff\":15},\"zerolinecolor\":\"#283442\",\"automargin\":true,\"zerolinewidth\":2},\"yaxis\":{\"gridcolor\":\"#283442\",\"linecolor\":\"#506784\",\"ticks\":\"\",\"title\":{\"standoff\":15},\"zerolinecolor\":\"#283442\",\"automargin\":true,\"zerolinewidth\":2},\"scene\":{\"xaxis\":{\"backgroundcolor\":\"rgb(17,17,17)\",\"gridcolor\":\"#506784\",\"linecolor\":\"#506784\",\"showbackground\":true,\"ticks\":\"\",\"zerolinecolor\":\"#C8D4E3\",\"gridwidth\":2},\"yaxis\":{\"backgroundcolor\":\"rgb(17,17,17)\",\"gridcolor\":\"#506784\",\"linecolor\":\"#506784\",\"showbackground\":true,\"ticks\":\"\",\"zerolinecolor\":\"#C8D4E3\",\"gridwidth\":2},\"zaxis\":{\"backgroundcolor\":\"rgb(17,17,17)\",\"gridcolor\":\"#506784\",\"linecolor\":\"#506784\",\"showbackground\":true,\"ticks\":\"\",\"zerolinecolor\":\"#C8D4E3\",\"gridwidth\":2}},\"shapedefaults\":{\"line\":{\"color\":\"#f2f5fa\"}},\"annotationdefaults\":{\"arrowcolor\":\"#f2f5fa\",\"arrowhead\":0,\"arrowwidth\":1},\"geo\":{\"bgcolor\":\"rgb(17,17,17)\",\"landcolor\":\"rgb(17,17,17)\",\"subunitcolor\":\"#506784\",\"showland\":true,\"showlakes\":true,\"lakecolor\":\"rgb(17,17,17)\"},\"title\":{\"x\":0.05},\"updatemenudefaults\":{\"bgcolor\":\"#506784\",\"borderwidth\":0},\"sliderdefaults\":{\"bgcolor\":\"#C8D4E3\",\"borderwidth\":1,\"bordercolor\":\"rgb(17,17,17)\",\"tickwidth\":0},\"mapbox\":{\"style\":\"dark\"}}},\"xaxis\":{\"anchor\":\"y\",\"domain\":[0.0,0.2125]},\"yaxis\":{\"anchor\":\"x\",\"domain\":[0.0,1.0]},\"xaxis2\":{\"anchor\":\"y2\",\"domain\":[0.2625,0.475]},\"yaxis2\":{\"anchor\":\"x2\",\"domain\":[0.0,1.0]},\"xaxis3\":{\"anchor\":\"y3\",\"domain\":[0.525,0.7375]},\"yaxis3\":{\"anchor\":\"x3\",\"domain\":[0.0,1.0]},\"xaxis4\":{\"anchor\":\"y4\",\"domain\":[0.7875,1.0]},\"yaxis4\":{\"anchor\":\"x4\",\"domain\":[0.0,1.0]},\"annotations\":[{\"font\":{\"size\":16},\"showarrow\":false,\"text\":\"Comfirmed\",\"x\":0.10625,\"xanchor\":\"center\",\"xref\":\"paper\",\"y\":1.0,\"yanchor\":\"bottom\",\"yref\":\"paper\"},{\"font\":{\"size\":16},\"showarrow\":false,\"text\":\"Deaths\",\"x\":0.36875,\"xanchor\":\"center\",\"xref\":\"paper\",\"y\":1.0,\"yanchor\":\"bottom\",\"yref\":\"paper\"},{\"font\":{\"size\":16},\"showarrow\":false,\"text\":\"Recovered\",\"x\":0.6312500000000001,\"xanchor\":\"center\",\"xref\":\"paper\",\"y\":1.0,\"yanchor\":\"bottom\",\"yref\":\"paper\"},{\"font\":{\"size\":16},\"showarrow\":false,\"text\":\"Active\",\"x\":0.89375,\"xanchor\":\"center\",\"xref\":\"paper\",\"y\":1.0,\"yanchor\":\"bottom\",\"yref\":\"paper\"}],\"title\":{\"text\":\"\\u003cb\\u003eAnalysis of Corona spread over time globally\\u003c\\u002fb\\u003e\"},\"font\":{\"size\":14,\"color\":\"white\"}},                        {\"responsive\": true}                    ).then(function(){\n",
       "                            \n",
       "var gd = document.getElementById('2998d820-106e-477a-8f9d-977eecb2e260');\n",
       "var x = new MutationObserver(function (mutations, observer) {{\n",
       "        var display = window.getComputedStyle(gd).display;\n",
       "        if (!display || display === 'none') {{\n",
       "            console.log([gd, 'removed!']);\n",
       "            Plotly.purge(gd);\n",
       "            observer.disconnect();\n",
       "        }}\n",
       "}});\n",
       "\n",
       "// Listen for the removal of the full notebook cells\n",
       "var notebookContainer = gd.closest('#notebook-container');\n",
       "if (notebookContainer) {{\n",
       "    x.observe(notebookContainer, {childList: true});\n",
       "}}\n",
       "\n",
       "// Listen for the clearing of the current output cell\n",
       "var outputEl = gd.closest('.output');\n",
       "if (outputEl) {{\n",
       "    x.observe(outputEl, {childList: true});\n",
       "}}\n",
       "\n",
       "                        })                };                });            </script>        </div>"
      ]
     },
     "metadata": {},
     "output_type": "display_data"
    }
   ],
   "source": [
    "fig = make_subplots(rows=1, cols=4, subplot_titles=(\"Comfirmed\", \"Deaths\", \"Recovered\",'Active'))\n",
    "\n",
    " \n",
    "case1 = go.Scatter(\n",
    "                x=case_index['Date'],\n",
    "                y=case_index['Confirmed'],\n",
    "                name=\"Confirmed\",\n",
    "                line_color='#590d22',\n",
    "                mode='lines+markers',\n",
    "                opacity=0.8)\n",
    "case2 = go.Scatter(\n",
    "                x=case_index['Date'],\n",
    "                y=case_index['Deaths'],\n",
    "                name=\"Deaths\",\n",
    "                line_color='#c9184a',\n",
    "                mode='lines+markers',\n",
    "                opacity=0.8)\n",
    "\n",
    "case3 = go.Scatter(\n",
    "                x=case_index['Date'],\n",
    "                y=case_index['Recovered'],\n",
    "                name=\"Recovered\",\n",
    "                mode='lines+markers', #these are the lines and marking point\n",
    "                line_color='#ff758f',\n",
    "                opacity=0.8)\n",
    "\n",
    "case4 = go.Scatter(\n",
    "                x=case_index['Date'],\n",
    "                y=case_index['Active'],\n",
    "                name=\"Active\",\n",
    "                line_color='#fff0f3',\n",
    "                mode='lines+markers',\n",
    "                opacity=0.8)\n",
    "\n",
    "\n",
    "fig.add_trace(case1, 1,1)\n",
    "fig.add_trace(case2, 1,2)\n",
    "fig.add_trace(case3, 1,3)\n",
    "fig.add_trace(case4, 1,4)\n",
    "fig.update_layout(\n",
    "    title_text='<b>Analysis of Corona spread over time globally</b>',\n",
    "    font=dict(size=14, color='white')\n",
    ")\n",
    "fig.show()\n"
   ]
  },
  {
   "cell_type": "markdown",
   "id": "5b5bfa34",
   "metadata": {
    "papermill": {
     "duration": 0.023087,
     "end_time": "2024-08-03T08:39:17.667958",
     "exception": false,
     "start_time": "2024-08-03T08:39:17.644871",
     "status": "completed"
    },
    "tags": []
   },
   "source": [
    "**WHO-continent wise cases**"
   ]
  },
  {
   "cell_type": "code",
   "execution_count": 30,
   "id": "c134a390",
   "metadata": {
    "execution": {
     "iopub.execute_input": "2024-08-03T08:39:17.718737Z",
     "iopub.status.busy": "2024-08-03T08:39:17.718331Z",
     "iopub.status.idle": "2024-08-03T08:39:17.876752Z",
     "shell.execute_reply": "2024-08-03T08:39:17.875409Z"
    },
    "papermill": {
     "duration": 0.186672,
     "end_time": "2024-08-03T08:39:17.879526",
     "exception": false,
     "start_time": "2024-08-03T08:39:17.692854",
     "status": "completed"
    },
    "tags": []
   },
   "outputs": [
    {
     "name": "stderr",
     "output_type": "stream",
     "text": [
      "/opt/conda/lib/python3.10/site-packages/plotly/express/_core.py:2065: FutureWarning:\n",
      "\n",
      "When grouping with a length-1 list-like, you will need to pass a length-1 tuple to get_group in a future version of pandas. Pass `(name,)` instead of `name` to silence this warning.\n",
      "\n"
     ]
    },
    {
     "data": {
      "text/html": [
       "<div>                            <div id=\"56e5b915-69ef-4246-ae9f-6852e04521b3\" class=\"plotly-graph-div\" style=\"height:525px; width:700px;\"></div>            <script type=\"text/javascript\">                require([\"plotly\"], function(Plotly) {                    window.PLOTLYENV=window.PLOTLYENV || {};                                    if (document.getElementById(\"56e5b915-69ef-4246-ae9f-6852e04521b3\")) {                    Plotly.newPlot(                        \"56e5b915-69ef-4246-ae9f-6852e04521b3\",                        [{\"alignmentgroup\":\"True\",\"hovertemplate\":\"WHO Region=%{y}\\u003cbr\\u003eConfirmed=%{text}\\u003cextra\\u003e\\u003c\\u002fextra\\u003e\",\"legendgroup\":\"Western Pacific\",\"marker\":{\"color\":\"rgb(255,245,240)\",\"pattern\":{\"shape\":\"\"}},\"name\":\"Western Pacific\",\"offsetgroup\":\"Western Pacific\",\"orientation\":\"h\",\"showlegend\":true,\"text\":[292428.0],\"textposition\":\"auto\",\"x\":[292428],\"xaxis\":\"x\",\"y\":[\"Western Pacific\"],\"yaxis\":\"y\",\"type\":\"bar\"},{\"alignmentgroup\":\"True\",\"hovertemplate\":\"WHO Region=%{y}\\u003cbr\\u003eConfirmed=%{text}\\u003cextra\\u003e\\u003c\\u002fextra\\u003e\",\"legendgroup\":\"Africa\",\"marker\":{\"color\":\"rgb(254,224,210)\",\"pattern\":{\"shape\":\"\"}},\"name\":\"Africa\",\"offsetgroup\":\"Africa\",\"orientation\":\"h\",\"showlegend\":true,\"text\":[723207.0],\"textposition\":\"auto\",\"x\":[723207],\"xaxis\":\"x\",\"y\":[\"Africa\"],\"yaxis\":\"y\",\"type\":\"bar\"},{\"alignmentgroup\":\"True\",\"hovertemplate\":\"WHO Region=%{y}\\u003cbr\\u003eConfirmed=%{text}\\u003cextra\\u003e\\u003c\\u002fextra\\u003e\",\"legendgroup\":\"Eastern Mediterranean\",\"marker\":{\"color\":\"rgb(252,187,161)\",\"pattern\":{\"shape\":\"\"}},\"name\":\"Eastern Mediterranean\",\"offsetgroup\":\"Eastern Mediterranean\",\"orientation\":\"h\",\"showlegend\":true,\"text\":[1490744.0],\"textposition\":\"auto\",\"x\":[1490744],\"xaxis\":\"x\",\"y\":[\"Eastern Mediterranean\"],\"yaxis\":\"y\",\"type\":\"bar\"},{\"alignmentgroup\":\"True\",\"hovertemplate\":\"WHO Region=%{y}\\u003cbr\\u003eConfirmed=%{text}\\u003cextra\\u003e\\u003c\\u002fextra\\u003e\",\"legendgroup\":\"South-East Asia\",\"marker\":{\"color\":\"rgb(252,146,114)\",\"pattern\":{\"shape\":\"\"}},\"name\":\"South-East Asia\",\"offsetgroup\":\"South-East Asia\",\"orientation\":\"h\",\"showlegend\":true,\"text\":[1835297.0],\"textposition\":\"auto\",\"x\":[1835297],\"xaxis\":\"x\",\"y\":[\"South-East Asia\"],\"yaxis\":\"y\",\"type\":\"bar\"},{\"alignmentgroup\":\"True\",\"hovertemplate\":\"WHO Region=%{y}\\u003cbr\\u003eConfirmed=%{text}\\u003cextra\\u003e\\u003c\\u002fextra\\u003e\",\"legendgroup\":\"Europe\",\"marker\":{\"color\":\"rgb(251,106,74)\",\"pattern\":{\"shape\":\"\"}},\"name\":\"Europe\",\"offsetgroup\":\"Europe\",\"orientation\":\"h\",\"showlegend\":true,\"text\":[3299523.0],\"textposition\":\"auto\",\"x\":[3299523],\"xaxis\":\"x\",\"y\":[\"Europe\"],\"yaxis\":\"y\",\"type\":\"bar\"},{\"alignmentgroup\":\"True\",\"hovertemplate\":\"WHO Region=%{y}\\u003cbr\\u003eConfirmed=%{text}\\u003cextra\\u003e\\u003c\\u002fextra\\u003e\",\"legendgroup\":\"Americas\",\"marker\":{\"color\":\"rgb(239,59,44)\",\"pattern\":{\"shape\":\"\"}},\"name\":\"Americas\",\"offsetgroup\":\"Americas\",\"orientation\":\"h\",\"showlegend\":true,\"text\":[8839286.0],\"textposition\":\"auto\",\"x\":[8839286],\"xaxis\":\"x\",\"y\":[\"Americas\"],\"yaxis\":\"y\",\"type\":\"bar\"}],                        {\"template\":{\"data\":{\"histogram2dcontour\":[{\"type\":\"histogram2dcontour\",\"colorbar\":{\"outlinewidth\":0,\"ticks\":\"\"},\"colorscale\":[[0.0,\"#0d0887\"],[0.1111111111111111,\"#46039f\"],[0.2222222222222222,\"#7201a8\"],[0.3333333333333333,\"#9c179e\"],[0.4444444444444444,\"#bd3786\"],[0.5555555555555556,\"#d8576b\"],[0.6666666666666666,\"#ed7953\"],[0.7777777777777778,\"#fb9f3a\"],[0.8888888888888888,\"#fdca26\"],[1.0,\"#f0f921\"]]}],\"choropleth\":[{\"type\":\"choropleth\",\"colorbar\":{\"outlinewidth\":0,\"ticks\":\"\"}}],\"histogram2d\":[{\"type\":\"histogram2d\",\"colorbar\":{\"outlinewidth\":0,\"ticks\":\"\"},\"colorscale\":[[0.0,\"#0d0887\"],[0.1111111111111111,\"#46039f\"],[0.2222222222222222,\"#7201a8\"],[0.3333333333333333,\"#9c179e\"],[0.4444444444444444,\"#bd3786\"],[0.5555555555555556,\"#d8576b\"],[0.6666666666666666,\"#ed7953\"],[0.7777777777777778,\"#fb9f3a\"],[0.8888888888888888,\"#fdca26\"],[1.0,\"#f0f921\"]]}],\"heatmap\":[{\"type\":\"heatmap\",\"colorbar\":{\"outlinewidth\":0,\"ticks\":\"\"},\"colorscale\":[[0.0,\"#0d0887\"],[0.1111111111111111,\"#46039f\"],[0.2222222222222222,\"#7201a8\"],[0.3333333333333333,\"#9c179e\"],[0.4444444444444444,\"#bd3786\"],[0.5555555555555556,\"#d8576b\"],[0.6666666666666666,\"#ed7953\"],[0.7777777777777778,\"#fb9f3a\"],[0.8888888888888888,\"#fdca26\"],[1.0,\"#f0f921\"]]}],\"heatmapgl\":[{\"type\":\"heatmapgl\",\"colorbar\":{\"outlinewidth\":0,\"ticks\":\"\"},\"colorscale\":[[0.0,\"#0d0887\"],[0.1111111111111111,\"#46039f\"],[0.2222222222222222,\"#7201a8\"],[0.3333333333333333,\"#9c179e\"],[0.4444444444444444,\"#bd3786\"],[0.5555555555555556,\"#d8576b\"],[0.6666666666666666,\"#ed7953\"],[0.7777777777777778,\"#fb9f3a\"],[0.8888888888888888,\"#fdca26\"],[1.0,\"#f0f921\"]]}],\"contourcarpet\":[{\"type\":\"contourcarpet\",\"colorbar\":{\"outlinewidth\":0,\"ticks\":\"\"}}],\"contour\":[{\"type\":\"contour\",\"colorbar\":{\"outlinewidth\":0,\"ticks\":\"\"},\"colorscale\":[[0.0,\"#0d0887\"],[0.1111111111111111,\"#46039f\"],[0.2222222222222222,\"#7201a8\"],[0.3333333333333333,\"#9c179e\"],[0.4444444444444444,\"#bd3786\"],[0.5555555555555556,\"#d8576b\"],[0.6666666666666666,\"#ed7953\"],[0.7777777777777778,\"#fb9f3a\"],[0.8888888888888888,\"#fdca26\"],[1.0,\"#f0f921\"]]}],\"surface\":[{\"type\":\"surface\",\"colorbar\":{\"outlinewidth\":0,\"ticks\":\"\"},\"colorscale\":[[0.0,\"#0d0887\"],[0.1111111111111111,\"#46039f\"],[0.2222222222222222,\"#7201a8\"],[0.3333333333333333,\"#9c179e\"],[0.4444444444444444,\"#bd3786\"],[0.5555555555555556,\"#d8576b\"],[0.6666666666666666,\"#ed7953\"],[0.7777777777777778,\"#fb9f3a\"],[0.8888888888888888,\"#fdca26\"],[1.0,\"#f0f921\"]]}],\"mesh3d\":[{\"type\":\"mesh3d\",\"colorbar\":{\"outlinewidth\":0,\"ticks\":\"\"}}],\"scatter\":[{\"marker\":{\"line\":{\"color\":\"#283442\"}},\"type\":\"scatter\"}],\"parcoords\":[{\"type\":\"parcoords\",\"line\":{\"colorbar\":{\"outlinewidth\":0,\"ticks\":\"\"}}}],\"scatterpolargl\":[{\"type\":\"scatterpolargl\",\"marker\":{\"colorbar\":{\"outlinewidth\":0,\"ticks\":\"\"}}}],\"bar\":[{\"error_x\":{\"color\":\"#f2f5fa\"},\"error_y\":{\"color\":\"#f2f5fa\"},\"marker\":{\"line\":{\"color\":\"rgb(17,17,17)\",\"width\":0.5},\"pattern\":{\"fillmode\":\"overlay\",\"size\":10,\"solidity\":0.2}},\"type\":\"bar\"}],\"scattergeo\":[{\"type\":\"scattergeo\",\"marker\":{\"colorbar\":{\"outlinewidth\":0,\"ticks\":\"\"}}}],\"scatterpolar\":[{\"type\":\"scatterpolar\",\"marker\":{\"colorbar\":{\"outlinewidth\":0,\"ticks\":\"\"}}}],\"histogram\":[{\"marker\":{\"pattern\":{\"fillmode\":\"overlay\",\"size\":10,\"solidity\":0.2}},\"type\":\"histogram\"}],\"scattergl\":[{\"marker\":{\"line\":{\"color\":\"#283442\"}},\"type\":\"scattergl\"}],\"scatter3d\":[{\"type\":\"scatter3d\",\"line\":{\"colorbar\":{\"outlinewidth\":0,\"ticks\":\"\"}},\"marker\":{\"colorbar\":{\"outlinewidth\":0,\"ticks\":\"\"}}}],\"scattermapbox\":[{\"type\":\"scattermapbox\",\"marker\":{\"colorbar\":{\"outlinewidth\":0,\"ticks\":\"\"}}}],\"scatterternary\":[{\"type\":\"scatterternary\",\"marker\":{\"colorbar\":{\"outlinewidth\":0,\"ticks\":\"\"}}}],\"scattercarpet\":[{\"type\":\"scattercarpet\",\"marker\":{\"colorbar\":{\"outlinewidth\":0,\"ticks\":\"\"}}}],\"carpet\":[{\"aaxis\":{\"endlinecolor\":\"#A2B1C6\",\"gridcolor\":\"#506784\",\"linecolor\":\"#506784\",\"minorgridcolor\":\"#506784\",\"startlinecolor\":\"#A2B1C6\"},\"baxis\":{\"endlinecolor\":\"#A2B1C6\",\"gridcolor\":\"#506784\",\"linecolor\":\"#506784\",\"minorgridcolor\":\"#506784\",\"startlinecolor\":\"#A2B1C6\"},\"type\":\"carpet\"}],\"table\":[{\"cells\":{\"fill\":{\"color\":\"#506784\"},\"line\":{\"color\":\"rgb(17,17,17)\"}},\"header\":{\"fill\":{\"color\":\"#2a3f5f\"},\"line\":{\"color\":\"rgb(17,17,17)\"}},\"type\":\"table\"}],\"barpolar\":[{\"marker\":{\"line\":{\"color\":\"rgb(17,17,17)\",\"width\":0.5},\"pattern\":{\"fillmode\":\"overlay\",\"size\":10,\"solidity\":0.2}},\"type\":\"barpolar\"}],\"pie\":[{\"automargin\":true,\"type\":\"pie\"}]},\"layout\":{\"autotypenumbers\":\"strict\",\"colorway\":[\"#636efa\",\"#EF553B\",\"#00cc96\",\"#ab63fa\",\"#FFA15A\",\"#19d3f3\",\"#FF6692\",\"#B6E880\",\"#FF97FF\",\"#FECB52\"],\"font\":{\"color\":\"#f2f5fa\"},\"hovermode\":\"closest\",\"hoverlabel\":{\"align\":\"left\"},\"paper_bgcolor\":\"rgb(17,17,17)\",\"plot_bgcolor\":\"rgb(17,17,17)\",\"polar\":{\"bgcolor\":\"rgb(17,17,17)\",\"angularaxis\":{\"gridcolor\":\"#506784\",\"linecolor\":\"#506784\",\"ticks\":\"\"},\"radialaxis\":{\"gridcolor\":\"#506784\",\"linecolor\":\"#506784\",\"ticks\":\"\"}},\"ternary\":{\"bgcolor\":\"rgb(17,17,17)\",\"aaxis\":{\"gridcolor\":\"#506784\",\"linecolor\":\"#506784\",\"ticks\":\"\"},\"baxis\":{\"gridcolor\":\"#506784\",\"linecolor\":\"#506784\",\"ticks\":\"\"},\"caxis\":{\"gridcolor\":\"#506784\",\"linecolor\":\"#506784\",\"ticks\":\"\"}},\"coloraxis\":{\"colorbar\":{\"outlinewidth\":0,\"ticks\":\"\"}},\"colorscale\":{\"sequential\":[[0.0,\"#0d0887\"],[0.1111111111111111,\"#46039f\"],[0.2222222222222222,\"#7201a8\"],[0.3333333333333333,\"#9c179e\"],[0.4444444444444444,\"#bd3786\"],[0.5555555555555556,\"#d8576b\"],[0.6666666666666666,\"#ed7953\"],[0.7777777777777778,\"#fb9f3a\"],[0.8888888888888888,\"#fdca26\"],[1.0,\"#f0f921\"]],\"sequentialminus\":[[0.0,\"#0d0887\"],[0.1111111111111111,\"#46039f\"],[0.2222222222222222,\"#7201a8\"],[0.3333333333333333,\"#9c179e\"],[0.4444444444444444,\"#bd3786\"],[0.5555555555555556,\"#d8576b\"],[0.6666666666666666,\"#ed7953\"],[0.7777777777777778,\"#fb9f3a\"],[0.8888888888888888,\"#fdca26\"],[1.0,\"#f0f921\"]],\"diverging\":[[0,\"#8e0152\"],[0.1,\"#c51b7d\"],[0.2,\"#de77ae\"],[0.3,\"#f1b6da\"],[0.4,\"#fde0ef\"],[0.5,\"#f7f7f7\"],[0.6,\"#e6f5d0\"],[0.7,\"#b8e186\"],[0.8,\"#7fbc41\"],[0.9,\"#4d9221\"],[1,\"#276419\"]]},\"xaxis\":{\"gridcolor\":\"#283442\",\"linecolor\":\"#506784\",\"ticks\":\"\",\"title\":{\"standoff\":15},\"zerolinecolor\":\"#283442\",\"automargin\":true,\"zerolinewidth\":2},\"yaxis\":{\"gridcolor\":\"#283442\",\"linecolor\":\"#506784\",\"ticks\":\"\",\"title\":{\"standoff\":15},\"zerolinecolor\":\"#283442\",\"automargin\":true,\"zerolinewidth\":2},\"scene\":{\"xaxis\":{\"backgroundcolor\":\"rgb(17,17,17)\",\"gridcolor\":\"#506784\",\"linecolor\":\"#506784\",\"showbackground\":true,\"ticks\":\"\",\"zerolinecolor\":\"#C8D4E3\",\"gridwidth\":2},\"yaxis\":{\"backgroundcolor\":\"rgb(17,17,17)\",\"gridcolor\":\"#506784\",\"linecolor\":\"#506784\",\"showbackground\":true,\"ticks\":\"\",\"zerolinecolor\":\"#C8D4E3\",\"gridwidth\":2},\"zaxis\":{\"backgroundcolor\":\"rgb(17,17,17)\",\"gridcolor\":\"#506784\",\"linecolor\":\"#506784\",\"showbackground\":true,\"ticks\":\"\",\"zerolinecolor\":\"#C8D4E3\",\"gridwidth\":2}},\"shapedefaults\":{\"line\":{\"color\":\"#f2f5fa\"}},\"annotationdefaults\":{\"arrowcolor\":\"#f2f5fa\",\"arrowhead\":0,\"arrowwidth\":1},\"geo\":{\"bgcolor\":\"rgb(17,17,17)\",\"landcolor\":\"rgb(17,17,17)\",\"subunitcolor\":\"#506784\",\"showland\":true,\"showlakes\":true,\"lakecolor\":\"rgb(17,17,17)\"},\"title\":{\"x\":0.05},\"updatemenudefaults\":{\"bgcolor\":\"#506784\",\"borderwidth\":0},\"sliderdefaults\":{\"bgcolor\":\"#C8D4E3\",\"borderwidth\":1,\"bordercolor\":\"rgb(17,17,17)\",\"tickwidth\":0},\"mapbox\":{\"style\":\"dark\"}}},\"xaxis\":{\"anchor\":\"y\",\"domain\":[0.0,1.0],\"title\":{\"text\":\"\"}},\"yaxis\":{\"anchor\":\"x\",\"domain\":[0.0,1.0],\"title\":{\"text\":\"\"},\"categoryorder\":\"total ascending\",\"categoryarray\":[\"Americas\",\"Europe\",\"South-East Asia\",\"Eastern Mediterranean\",\"Africa\",\"Western Pacific\"]},\"legend\":{\"title\":{\"text\":\"WHO Region\"},\"tracegroupgap\":0},\"margin\":{\"t\":60},\"barmode\":\"relative\",\"width\":700,\"uniformtext\":{\"minsize\":8,\"mode\":\"hide\"},\"title\":{\"text\":\"Confirmed\"}},                        {\"responsive\": true}                    ).then(function(){\n",
       "                            \n",
       "var gd = document.getElementById('56e5b915-69ef-4246-ae9f-6852e04521b3');\n",
       "var x = new MutationObserver(function (mutations, observer) {{\n",
       "        var display = window.getComputedStyle(gd).display;\n",
       "        if (!display || display === 'none') {{\n",
       "            console.log([gd, 'removed!']);\n",
       "            Plotly.purge(gd);\n",
       "            observer.disconnect();\n",
       "        }}\n",
       "}});\n",
       "\n",
       "// Listen for the removal of the full notebook cells\n",
       "var notebookContainer = gd.closest('#notebook-container');\n",
       "if (notebookContainer) {{\n",
       "    x.observe(notebookContainer, {childList: true});\n",
       "}}\n",
       "\n",
       "// Listen for the clearing of the current output cell\n",
       "var outputEl = gd.closest('.output');\n",
       "if (outputEl) {{\n",
       "    x.observe(outputEl, {childList: true});\n",
       "}}\n",
       "\n",
       "                        })                };                });            </script>        </div>"
      ]
     },
     "metadata": {},
     "output_type": "display_data"
    }
   ],
   "source": [
    "who = df_country.groupby('WHO Region')[['Confirmed', 'Deaths', 'Recovered', 'Active','New cases', 'Confirmed last week']].sum().reset_index()\n",
    "who['Fatality Rate'] = round((who['Deaths'] / who['Confirmed']) * 100, 2)\n",
    "who['Recovery Rate'] = (who['Recovered'] / who['Confirmed']) * 100\n",
    "\n",
    "who_g = df_fgroup.groupby(['WHO Region', 'Date'])[['Confirmed', 'Deaths', 'Recovered','Active','New cases', 'New deaths']].sum().reset_index()\n",
    "\n",
    "def plot_hbar(col, hover_data=[]):\n",
    "    fig = px.bar(who.sort_values(col), \n",
    "                 \n",
    "                 x=col,\n",
    "                 y=\"WHO Region\",\n",
    "                 color='WHO Region',  \n",
    "                 text=col,\n",
    "                 orientation='h',\n",
    "                 width=700, \n",
    "                 hover_data=hover_data,\n",
    "                 color_discrete_sequence = color_scale)\n",
    "    \n",
    "    fig.update_layout(title=col,\n",
    "                      xaxis_title=\"\",\n",
    "                      yaxis_title=\"\", \n",
    "                      yaxis_categoryorder = 'total ascending',\n",
    "                      uniformtext_minsize=8, \n",
    "                      uniformtext_mode='hide')\n",
    "    fig.show()\n",
    "    \n",
    "plot_hbar('Confirmed')"
   ]
  },
  {
   "cell_type": "markdown",
   "id": "d5798cea",
   "metadata": {
    "papermill": {
     "duration": 0.022968,
     "end_time": "2024-08-03T08:39:17.927496",
     "exception": false,
     "start_time": "2024-08-03T08:39:17.904528",
     "status": "completed"
    },
    "tags": []
   },
   "source": [
    "**Conclusion**\n",
    "\n",
    "We explored global and regional trends in COVID-19 cases, including confirmed cases, recoveries, deaths, and active cases. This helped us understand the overall scale and impact of the pandemic.\n",
    "\n",
    "The df_country dataset provided valuable information about countries' demographics and healthcare infrastructure. This data can be used to correlate healthcare resources with pandemic outcomes.\n",
    "\n",
    "Using the df_day dataset, we conducted time-series analysis, tracking the progression of cases, recoveries, and deaths over time. This allowed us to identify periods of rapid growth and recovery.\n",
    "\n",
    "Grouped countries by WHO regions and analyzed key metrics like fatality rate and recovery rate. This provided insights into regional variations in pandemic management.\n",
    "\n",
    "The df_fgroup dataset enabled comparative analysis by classifying countries into specific groups. This allowed us to compare the pandemic's impact on similar nations.\n",
    "\n",
    "We used various visualization techniques, including line charts, bar plots, pie charts, and choropleth maps, to present our findings effectively.\n",
    "\n"
   ]
  },
  {
   "cell_type": "code",
   "execution_count": null,
   "id": "586eea1d",
   "metadata": {
    "papermill": {
     "duration": 0.023092,
     "end_time": "2024-08-03T08:39:17.975070",
     "exception": false,
     "start_time": "2024-08-03T08:39:17.951978",
     "status": "completed"
    },
    "tags": []
   },
   "outputs": [],
   "source": []
  }
 ],
 "metadata": {
  "kaggle": {
   "accelerator": "none",
   "dataSources": [
    {
     "datasetId": 494766,
     "sourceId": 1402868,
     "sourceType": "datasetVersion"
    }
   ],
   "dockerImageVersionId": 30746,
   "isGpuEnabled": false,
   "isInternetEnabled": true,
   "language": "python",
   "sourceType": "notebook"
  },
  "kernelspec": {
   "display_name": "Python 3",
   "language": "python",
   "name": "python3"
  },
  "language_info": {
   "codemirror_mode": {
    "name": "ipython",
    "version": 3
   },
   "file_extension": ".py",
   "mimetype": "text/x-python",
   "name": "python",
   "nbconvert_exporter": "python",
   "pygments_lexer": "ipython3",
   "version": "3.10.13"
  },
  "papermill": {
   "default_parameters": {},
   "duration": 14.745904,
   "end_time": "2024-08-03T08:39:18.821936",
   "environment_variables": {},
   "exception": null,
   "input_path": "__notebook__.ipynb",
   "output_path": "__notebook__.ipynb",
   "parameters": {},
   "start_time": "2024-08-03T08:39:04.076032",
   "version": "2.5.0"
  }
 },
 "nbformat": 4,
 "nbformat_minor": 5
}
